{
 "cells": [
  {
   "cell_type": "markdown",
   "metadata": {},
   "source": [
    "# Exercises from Python Crash Course Chapter 8: Functions"
   ]
  },
  {
   "cell_type": "markdown",
   "metadata": {},
   "source": [
    "## Exercise 1.1\n",
    "### Message: Write a function that displays a message"
   ]
  },
  {
   "cell_type": "code",
   "execution_count": 1,
   "metadata": {},
   "outputs": [
    {
     "name": "stdout",
     "output_type": "stream",
     "text": [
      "In this chapter, I am learning about functions in Python.\n"
     ]
    }
   ],
   "source": [
    "def display_message():\n",
    "    print(\"In this chapter, I am learning about functions in Python.\")\n",
    "\n",
    "display_message()\n"
   ]
  },
  {
   "cell_type": "markdown",
   "metadata": {},
   "source": [
    "## Exercise 1.2 \n",
    "### Favorite Book: Write a function that accepts one parameter, title of a Favorite book."
   ]
  },
  {
   "cell_type": "code",
   "execution_count": 2,
   "metadata": {},
   "outputs": [
    {
     "name": "stdout",
     "output_type": "stream",
     "text": [
      "One of my favorite books is Alice in Wonderland.\n"
     ]
    }
   ],
   "source": [
    "def favorite_book(title):\n",
    "    print(f\"One of my favorite books is {title}.\")\n",
    "\n",
    "favorite_book(\"Alice in Wonderland\")\n"
   ]
  },
  {
   "cell_type": "markdown",
   "metadata": {},
   "source": [
    "## Exercise 1.3\n",
    "### T-Shirt : Write a function called make_shirt() that accepts a size and the text of a message that should be printed on the shirt."
   ]
  },
  {
   "cell_type": "code",
   "execution_count": 3,
   "metadata": {},
   "outputs": [
    {
     "name": "stdout",
     "output_type": "stream",
     "text": [
      "Size: Large, Message: Lovely Shirt\n",
      "Size: Medium, Message: Amazing\n"
     ]
    }
   ],
   "source": [
    "def make_shirt(size, message):\n",
    "    print(f\"Size: {size}, Message: {message}\")\n",
    "\n",
    "make_shirt(\"Large\", \"Lovely Shirt\")\n",
    "\n",
    "# Call the function with keyword arguments\n",
    "make_shirt(size=\"Medium\", message=\"Amazing\")\n"
   ]
  },
  {
   "cell_type": "markdown",
   "metadata": {},
   "source": [
    "## Exercise 1.4\n",
    "### Large Shirts : Modify the make_shirt() function so that shirts are large by default with a message that reads I love Python."
   ]
  },
  {
   "cell_type": "code",
   "execution_count": 4,
   "metadata": {},
   "outputs": [
    {
     "name": "stdout",
     "output_type": "stream",
     "text": [
      "Size: Large, Message: I love Python\n",
      "Size: Medium, Message: I love Python\n",
      "Size: Small, Message: Coding is life!\n"
     ]
    }
   ],
   "source": [
    "def make_shirt(size=\"Large\", message=\"I love Python\"):\n",
    "    print(f\"Size: {size}, Message: {message}\")\n",
    "\n",
    "# Make a large shirt with the default message\n",
    "make_shirt()\n",
    "\n",
    "# Make a medium shirt with the default message\n",
    "make_shirt(size=\"Medium\")\n",
    "\n",
    "# Make a shirt of any size with a different message\n",
    "make_shirt(size=\"Small\", message=\"Coding is life!\")\n"
   ]
  },
  {
   "cell_type": "markdown",
   "metadata": {},
   "source": [
    "## Exercise 1.5\n",
    "### Cities : Write a function called describe_city() that accepts the name of a city and its country"
   ]
  },
  {
   "cell_type": "code",
   "execution_count": 5,
   "metadata": {},
   "outputs": [
    {
     "name": "stdout",
     "output_type": "stream",
     "text": [
      "Reykjavik is in Iceland.\n",
      "Paris is in France.\n",
      "New York is in Default Country.\n"
     ]
    }
   ],
   "source": [
    "def describe_city(city, country=\"Default Country\"):\n",
    "    print(f\"{city} is in {country}.\")\n",
    "\n",
    "# Call the function for three different cities\n",
    "describe_city(\"Reykjavik\", \"Iceland\")\n",
    "describe_city(\"Paris\", \"France\")\n",
    "describe_city(\"New York\")\n"
   ]
  },
  {
   "cell_type": "markdown",
   "metadata": {},
   "source": [
    "## Exercise 1.6\n",
    "### City name : Write a function called city_country() that takes in the name of a city and its country."
   ]
  },
  {
   "cell_type": "code",
   "execution_count": 6,
   "metadata": {},
   "outputs": [
    {
     "name": "stdout",
     "output_type": "stream",
     "text": [
      "Santiago, Chile\n",
      "Tokyo, Japan\n",
      "Berlin, Germany\n"
     ]
    }
   ],
   "source": [
    "def city_country(city, country):\n",
    "    return f\"{city}, {country}\"\n",
    "\n",
    "# Call the function with three city-country pairs\n",
    "print(city_country(\"Santiago\", \"Chile\"))\n",
    "print(city_country(\"Tokyo\", \"Japan\"))\n",
    "print(city_country(\"Berlin\", \"Germany\"))\n"
   ]
  },
  {
   "cell_type": "markdown",
   "metadata": {},
   "source": [
    "## Exercise 1.7\n",
    "### Albums : Write a function called make_album() that builds a dictionary describing a music album. The function should take in an artist name and an album title, and it should return a dictionary containing these two pieces of information"
   ]
  },
  {
   "cell_type": "code",
   "execution_count": 7,
   "metadata": {},
   "outputs": [
    {
     "name": "stdout",
     "output_type": "stream",
     "text": [
      "{'artist': 'Adekunle Gold', 'title': 'Tequila Ever After', 'songs': 10}\n",
      "{'artist': 'Davido', 'title': 'Timeless'}\n",
      "{'artist': 'Burna Boy', 'title': 'I Told Them', 'songs': 15}\n"
     ]
    }
   ],
   "source": [
    "def make_album(artist, title, songs=None):\n",
    "    album = {\"artist\": artist, \"title\": title}\n",
    "    if songs is not None:\n",
    "        album[\"songs\"] = songs\n",
    "    return album\n",
    "\n",
    "# Create three dictionaries representing different albums\n",
    "album1 = make_album(\"Adekunle Gold\", \"Tequila Ever After\", 10)\n",
    "album2 = make_album(\"Davido\", \"Timeless\")\n",
    "album3 = make_album(\"Burna Boy\", \"I Told Them\", 15)\n",
    "\n",
    "# Print each return value to show that the dictionaries are storing the album information correctly\n",
    "print(album1)\n",
    "print(album2)\n",
    "print(album3)\n"
   ]
  },
  {
   "cell_type": "markdown",
   "metadata": {},
   "source": [
    "## Exercise 1.8\n",
    "### User Albums : Start with your program from Exercise 1.7. Write a whilebloop that allows users to enter an album’s artist and title. Once you have that information, call make_album() with the user’s input and print the dictionary that’s created. Be sure to include a quit value in the while loop\n",
    "\n"
   ]
  },
  {
   "cell_type": "code",
   "execution_count": 8,
   "metadata": {},
   "outputs": [
    {
     "name": "stdout",
     "output_type": "stream",
     "text": [
      "{'artist': 'Davido', 'title': 'Timeless', 'songs': 17}\n"
     ]
    }
   ],
   "source": [
    "def make_album(artist, title, songs=None):\n",
    "    album = {\"artist\": artist, \"title\": title}\n",
    "    if songs is not None:\n",
    "        album[\"songs\"] = songs\n",
    "    return album\n",
    "\n",
    "# User input loop\n",
    "while True:\n",
    "    artist_input = input(\"Enter the artist's name (type 'quit' to exit): \")\n",
    "    if artist_input.lower() == 'quit':\n",
    "        break\n",
    "    \n",
    "    title_input = input(\"Enter the album title: \")\n",
    "    \n",
    "    # Optional input for number of songs\n",
    "    songs_input = input(\"Enter the number of songs (press enter to skip): \")\n",
    "    if songs_input:\n",
    "        try:\n",
    "            songs_input = int(songs_input)\n",
    "        except ValueError:\n",
    "            print(\"Invalid input for number of songs. Skipping.\")\n",
    "            songs_input = None\n",
    "    \n",
    "    # Call make_album with user input and print the created dictionary\n",
    "    user_album = make_album(artist_input, title_input, songs_input)\n",
    "    print(user_album)\n"
   ]
  },
  {
   "cell_type": "markdown",
   "metadata": {},
   "source": [
    "## Exercise 1.9\n",
    "###  Messages: Make a list containing a series of short text messages. Pass the list to a function called show_messages(), which prints each text message."
   ]
  },
  {
   "cell_type": "code",
   "execution_count": 9,
   "metadata": {},
   "outputs": [
    {
     "name": "stdout",
     "output_type": "stream",
     "text": [
      "Hello\n",
      "How are you?\n",
      "Python is fun!\n",
      "Goodbye\n"
     ]
    }
   ],
   "source": [
    "def show_messages(messages):\n",
    "    for message in messages:\n",
    "        print(message)\n",
    "\n",
    "# Make a list of short text messages\n",
    "text_messages = [\"Hello\", \"How are you?\", \"Python is fun!\", \"Goodbye\"]\n",
    "\n",
    "# Call the function to print each text message\n",
    "show_messages(text_messages)\n"
   ]
  },
  {
   "cell_type": "markdown",
   "metadata": {},
   "source": [
    "## Exercise 1.10\n",
    "### Sending Messages: Start with a copy of your program from Exercise 1.9. Write a function called send_messages() that prints each text message and moves each message to a new list called sent_messages as it’s printed. After calling the function, print both of your lists to make sure the messages were moved correctly."
   ]
  },
  {
   "cell_type": "code",
   "execution_count": 10,
   "metadata": {},
   "outputs": [
    {
     "name": "stdout",
     "output_type": "stream",
     "text": [
      "Sending message: Hello\n",
      "Sending message: How are you?\n",
      "Sending message: Python is fun!\n",
      "Sending message: Goodbye\n",
      "Original messages: []\n",
      "Sent messages: ['Hello', 'How are you?', 'Python is fun!', 'Goodbye']\n"
     ]
    }
   ],
   "source": [
    "def send_messages(messages, sent_messages):\n",
    "    while messages:\n",
    "        current_message = messages.pop(0)\n",
    "        print(f\"Sending message: {current_message}\")\n",
    "        sent_messages.append(current_message)\n",
    "\n",
    "# Make a list of short text messages\n",
    "text_messages = [\"Hello\", \"How are you?\", \"Python is fun!\", \"Goodbye\"]\n",
    "\n",
    "# Initialize an empty list for sent messages\n",
    "sent_messages = []\n",
    "\n",
    "# Call the function to print and move messages to sent_messages\n",
    "send_messages(text_messages, sent_messages)\n",
    "\n",
    "# Print both lists to confirm messages were moved correctly\n",
    "print(\"Original messages:\", text_messages)\n",
    "print(\"Sent messages:\", sent_messages)\n"
   ]
  },
  {
   "cell_type": "markdown",
   "metadata": {},
   "source": [
    "## Exercise 1.11\n",
    "### Archived Messages: Start with your work from Exercise 1.10. Call the function send_messages() with a copy of the list of messages. After calling the function, print both of your lists to show that the original list has retained its messages.\n",
    "\n"
   ]
  },
  {
   "cell_type": "code",
   "execution_count": 11,
   "metadata": {},
   "outputs": [
    {
     "name": "stdout",
     "output_type": "stream",
     "text": [
      "Sending message: Hello\n",
      "Sending message: How are you?\n",
      "Sending message: Python is fun!\n",
      "Sending message: Goodbye\n",
      "Original messages: ['Hello', 'How are you?', 'Python is fun!', 'Goodbye']\n",
      "Sent messages: ['Hello', 'How are you?', 'Python is fun!', 'Goodbye']\n"
     ]
    }
   ],
   "source": [
    "def send_messages(messages, sent_messages):\n",
    "    while messages:\n",
    "        current_message = messages.pop(0)\n",
    "        print(f\"Sending message: {current_message}\")\n",
    "        sent_messages.append(current_message)\n",
    "\n",
    "# Make a list of short text messages\n",
    "text_messages = [\"Hello\", \"How are you?\", \"Python is fun!\", \"Goodbye\"]\n",
    "\n",
    "# Create a copy of the list of messages\n",
    "messages_copy = text_messages.copy()\n",
    "\n",
    "# Initialize an empty list for sent messages\n",
    "sent_messages = []\n",
    "\n",
    "# Call the function with the copy of the list\n",
    "send_messages(messages_copy, sent_messages)\n",
    "\n",
    "# Print both lists to show that the original list retained its messages\n",
    "print(\"Original messages:\", text_messages)\n",
    "print(\"Sent messages:\", sent_messages)\n"
   ]
  },
  {
   "cell_type": "markdown",
   "metadata": {},
   "source": [
    "## Exercise 1.12\n",
    "### Sandwiches: Write a function that accepts a list of items a person wants on a sandwich. The function should have one parameter that collects as many items as the function call provides, and it should print a summary of the sandwich that’s being ordered. Call the function three times, using a different number of arguments each time."
   ]
  },
  {
   "cell_type": "code",
   "execution_count": 12,
   "metadata": {},
   "outputs": [
    {
     "name": "stdout",
     "output_type": "stream",
     "text": [
      "Making a sandwich with the following ingredients:\n",
      "- Ham\n",
      "- Cheese\n",
      "- Lettuce\n",
      "Making a sandwich with the following ingredients:\n",
      "- Turkey\n",
      "- Swiss\n",
      "Making a sandwich with the following ingredients:\n",
      "- Peanut Butter\n",
      "- Jelly\n"
     ]
    }
   ],
   "source": [
    "def make_sandwich(*ingredients):\n",
    "    print(\"Making a sandwich with the following ingredients:\")\n",
    "    for ingredient in ingredients:\n",
    "        print(\"- \" + ingredient)\n",
    "\n",
    "# Call the function three times with a different number of arguments each time\n",
    "make_sandwich(\"Ham\", \"Cheese\", \"Lettuce\")\n",
    "make_sandwich(\"Turkey\", \"Swiss\")\n",
    "make_sandwich(\"Peanut Butter\", \"Jelly\")\n"
   ]
  },
  {
   "cell_type": "markdown",
   "metadata": {},
   "source": [
    "## Exercise 1.13\n",
    "### User Profile: Start with a copy of user_profile.py from page 149. Build a profile of yourself by calling build_profile(), using your first and last names and three other key-value pairs that describe you."
   ]
  },
  {
   "cell_type": "code",
   "execution_count": 13,
   "metadata": {},
   "outputs": [
    {
     "name": "stdout",
     "output_type": "stream",
     "text": [
      "{'first_name': 'Abdulrasheed', 'last_name': 'Abdulraheem', 'age': 29, 'location': 'Lagos', 'occupation': 'Data Scientist'}\n"
     ]
    }
   ],
   "source": [
    "def build_profile(first, last, **additional_info):\n",
    "    profile = {'first_name': first, 'last_name': last}\n",
    "    profile.update(additional_info)\n",
    "    return profile\n",
    "\n",
    "# Call the function to build a user profile\n",
    "my_profile = build_profile('Abdulrasheed', 'Abdulraheem', age=29, location='Lagos', occupation='Data Scientist')\n",
    "\n",
    "# Print the user profile\n",
    "print(my_profile)\n"
   ]
  },
  {
   "cell_type": "markdown",
   "metadata": {},
   "source": [
    "## Exercise 1.14\n",
    "### Cars: Write a function that stores information about a car in a dictionary. The function should always receive a manufacturer and a model name. It should then accept an arbitrary number of keyword arguments. Call the function with the required information and two other name-value pairs, such as a color or an optional feature. Your function should work for a call like this one: car = make_car('subaru', 'outback', color='blue', tow_package=True) Print the dictionary that’s returned to make sure all the information was stored correctly"
   ]
  },
  {
   "cell_type": "code",
   "execution_count": 14,
   "metadata": {},
   "outputs": [
    {
     "name": "stdout",
     "output_type": "stream",
     "text": [
      "{'manufacturer': 'subaru', 'model': 'outback', 'color': 'blue', 'tow_package': True}\n"
     ]
    }
   ],
   "source": [
    "def make_car(manufacturer, model, **car_info):\n",
    "    car = {'manufacturer': manufacturer, 'model': model}\n",
    "    car.update(car_info)\n",
    "    return car\n",
    "\n",
    "# Call the function with the required information and additional name-value pairs\n",
    "car = make_car('subaru', 'outback', color='blue', tow_package=True)\n",
    "\n",
    "# Print the dictionary that’s returned to ensure all information was stored correctly\n",
    "print(car)\n"
   ]
  },
  {
   "cell_type": "markdown",
   "metadata": {},
   "source": [
    "## Exercise 1.15\n",
    "### Printing Models: Put the functions for the example printing_models.py in a separate file called printing_functions.py. Write an import statement at the top of printing_models.py, and modify the file to use the imported functions."
   ]
  },
  {
   "cell_type": "code",
   "execution_count": 15,
   "metadata": {},
   "outputs": [
    {
     "name": "stdout",
     "output_type": "stream",
     "text": [
      "The file 'printing_functions.py' has been created and saved in the current working directory.\n"
     ]
    }
   ],
   "source": [
    "import os\n",
    "\n",
    "# Specify the code to be saved in the printing_functions.py file\n",
    "code_to_save = \"\"\"\n",
    "def print_models(models):\n",
    "    for model in models:\n",
    "        print(f\"Printing {model}.\")\n",
    "\n",
    "def show_completed_models(completed_models):\n",
    "    print(\"\\\\nThe following models have been printed:\")\n",
    "    for model in completed_models:\n",
    "        print(model)\n",
    "\"\"\"\n",
    "\n",
    "# Get the current working directory\n",
    "current_directory = os.getcwd()\n",
    "\n",
    "# Specify the file name\n",
    "file_name = \"printing_functions.py\"\n",
    "\n",
    "# Combine the current working directory and file name to get the full file path\n",
    "file_path = os.path.join(current_directory, file_name)\n",
    "\n",
    "# Create and save the file with the specified code\n",
    "with open(file_path, \"w\") as file:\n",
    "    file.write(code_to_save)\n",
    "\n",
    "print(f\"The file '{file_name}' has been created and saved in the current working directory.\")\n"
   ]
  },
  {
   "cell_type": "code",
   "execution_count": 16,
   "metadata": {},
   "outputs": [
    {
     "name": "stdout",
     "output_type": "stream",
     "text": [
      "Printing iPhone Case.\n",
      "Printing Robot Pendant.\n",
      "Printing Dodecahedron.\n",
      "\n",
      "The following models have been printed:\n"
     ]
    }
   ],
   "source": [
    "# printing_models.py\n",
    "from printing_functions import print_models, show_completed_models\n",
    "\n",
    "unprinted_models = ['iPhone Case', 'Robot Pendant', 'Dodecahedron']\n",
    "completed_models = []\n",
    "\n",
    "print_models(unprinted_models[:])\n",
    "show_completed_models(completed_models)\n"
   ]
  },
  {
   "cell_type": "markdown",
   "metadata": {},
   "source": [
    "## Exercise 1.16\n",
    "### Imports: Using a program you wrote that has one function in it, store that function in a separate file. Import the function into your main program file, and call the function using each of these approaches:\n",
    "``` import module_name\n",
    "from module_name import function_name\n",
    "from module_name import function_name as fn\n",
    "import module_name as mn\n",
    "from module_name import ```"
   ]
  },
  {
   "cell_type": "code",
   "execution_count": 17,
   "metadata": {},
   "outputs": [],
   "source": [
    "# my_program.py\n",
    "\n",
    "def my_function():\n",
    "    print(\"Hello, importing function from file. from my_function in my_program.py!\")\n"
   ]
  },
  {
   "cell_type": "code",
   "execution_count": 18,
   "metadata": {},
   "outputs": [
    {
     "name": "stdout",
     "output_type": "stream",
     "text": [
      "Hello, importing function from file. from my_function in my_program.py!\n",
      "Hello, importing function from file. from my_function in my_program.py!\n",
      "Hello, importing function from file. from my_function in my_program.py!\n",
      "Hello, importing function from file. from my_function in my_program.py!\n",
      "Hello, importing function from file. from my_function in my_program.py!\n"
     ]
    }
   ],
   "source": [
    "# main_program.py\n",
    "\n",
    "# Importing module my_program\n",
    "\n",
    "# Approach 1: import module_name\n",
    "import my_program\n",
    "\n",
    "my_program.my_function()\n",
    "\n",
    "# Approach 2: from module_name import function_name\n",
    "from my_program import my_function\n",
    "\n",
    "my_function()\n",
    "\n",
    "# Approach 3: from module_name import function_name as fn\n",
    "from my_program import my_function as fn\n",
    "\n",
    "fn()\n",
    "\n",
    "# Approach 4: import module_name as mn\n",
    "import my_program as mn\n",
    "\n",
    "mn.my_function()\n",
    "\n",
    "# Approach 5: from module_name import *\n",
    "from my_program import *\n",
    "\n",
    "my_function()\n"
   ]
  },
  {
   "cell_type": "markdown",
   "metadata": {},
   "source": [
    "## Exercise 1.17\n",
    "### Styling Functions: Choose any three programs you wrote for this chapter, and make sure they follow the styling guidelines described in this section."
   ]
  },
  {
   "cell_type": "markdown",
   "metadata": {},
   "source": [
    "#### Program 1: Sandwiches"
   ]
  },
  {
   "cell_type": "code",
   "execution_count": 19,
   "metadata": {},
   "outputs": [
    {
     "name": "stdout",
     "output_type": "stream",
     "text": [
      "Making a sandwich with the following ingredients:\n",
      "- Ham\n",
      "- Cheese\n",
      "- Lettuce\n",
      "Making a sandwich with the following ingredients:\n",
      "- Turkey\n",
      "- Swiss\n",
      "Making a sandwich with the following ingredients:\n",
      "- Peanut Butter\n",
      "- Jelly\n"
     ]
    }
   ],
   "source": [
    "def make_sandwich(*ingredients):\n",
    "    \"\"\"Make a sandwich with the provided ingredients.\"\"\"\n",
    "    print(\"Making a sandwich with the following ingredients:\")\n",
    "    for ingredient in ingredients:\n",
    "        print(\"- \" + ingredient)\n",
    "\n",
    "# Call the function three times with a different number of arguments each time\n",
    "make_sandwich(\"Ham\", \"Cheese\", \"Lettuce\")\n",
    "make_sandwich(\"Turkey\", \"Swiss\")\n",
    "make_sandwich(\"Peanut Butter\", \"Jelly\")\n"
   ]
  },
  {
   "cell_type": "markdown",
   "metadata": {},
   "source": [
    "#### Program 2: User Profile"
   ]
  },
  {
   "cell_type": "code",
   "execution_count": 20,
   "metadata": {},
   "outputs": [
    {
     "name": "stdout",
     "output_type": "stream",
     "text": [
      "{'first_name': 'Mike', 'last_name': 'Ben', 'age': 25, 'location': 'City', 'occupation': 'Developer'}\n"
     ]
    }
   ],
   "source": [
    "# user_profile\n",
    "\n",
    "def build_profile(first, last, **additional_info):\n",
    "    \"\"\"Build a user profile with the provided information.\"\"\"\n",
    "    profile = {'first_name': first, 'last_name': last}\n",
    "    profile.update(additional_info)\n",
    "    return profile\n",
    "\n",
    "my_profile = build_profile('Mike', 'Ben', age=25, location='City', occupation='Developer')\n",
    "print(my_profile)\n"
   ]
  },
  {
   "cell_type": "markdown",
   "metadata": {},
   "source": [
    "#### Program 3: Cars"
   ]
  },
  {
   "cell_type": "code",
   "execution_count": 21,
   "metadata": {},
   "outputs": [
    {
     "name": "stdout",
     "output_type": "stream",
     "text": [
      "{'manufacturer': 'subaru', 'model': 'outback', 'color': 'blue', 'tow_package': True}\n"
     ]
    }
   ],
   "source": [
    "# cars\n",
    "\n",
    "def make_car(manufacturer, model, **car_info):\n",
    "    \"\"\"Create a dictionary representing a car with specified information.\"\"\"\n",
    "    car = {'manufacturer': manufacturer, 'model': model}\n",
    "    car.update(car_info)\n",
    "    return car\n",
    "\n",
    "\n",
    "car = make_car('subaru', 'outback', color='blue', tow_package=True)\n",
    "print(car)\n"
   ]
  }
 ],
 "metadata": {
  "kernelspec": {
   "display_name": "datascience",
   "language": "python",
   "name": "python3"
  },
  "language_info": {
   "codemirror_mode": {
    "name": "ipython",
    "version": 3
   },
   "file_extension": ".py",
   "mimetype": "text/x-python",
   "name": "python",
   "nbconvert_exporter": "python",
   "pygments_lexer": "ipython3",
   "version": "3.9.18"
  }
 },
 "nbformat": 4,
 "nbformat_minor": 2
}
