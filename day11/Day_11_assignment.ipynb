{
 "cells": [
  {
   "cell_type": "markdown",
   "metadata": {},
   "source": [
    "# Day 11 Assignment : Functions"
   ]
  },
  {
   "cell_type": "markdown",
   "metadata": {},
   "source": [
    "## Excercise Level 1"
   ]
  },
  {
   "cell_type": "markdown",
   "metadata": {},
   "source": [
    "#### 1. Declare function"
   ]
  },
  {
   "cell_type": "code",
   "execution_count": null,
   "metadata": {},
   "outputs": [],
   "source": [
    "def add_two_numbers(a, b):\n",
    "    return a + b\n",
    "\n",
    "print(add_two_numbers(3, 5))\n"
   ]
  },
  {
   "cell_type": "markdown",
   "metadata": {},
   "source": [
    "#### 2. Calculate Area of a circle"
   ]
  },
  {
   "cell_type": "code",
   "execution_count": null,
   "metadata": {},
   "outputs": [],
   "source": [
    "import math\n",
    "radius = float(input('Enter radius of circle:'))\n",
    "def area_of_circle(radius):\n",
    "    return math.pi * radius ** 2\n",
    "\n",
    "print(area_of_circle(radius))"
   ]
  },
  {
   "cell_type": "markdown",
   "metadata": {},
   "source": [
    "#### 3. Summation of numbers"
   ]
  },
  {
   "cell_type": "code",
   "execution_count": null,
   "metadata": {},
   "outputs": [],
   "source": [
    "def add_all_nums(*args):\n",
    "    if all(isinstance(num, (int, float)) for num in args):\n",
    "        return sum(args)\n",
    "    else:\n",
    "        return \"Please provide valid numeric arguments.\"\n",
    "\n",
    "print(add_all_nums(1, 2, 3))\n",
    "print(add_all_nums(1, 'two', 3))"
   ]
  },
  {
   "cell_type": "markdown",
   "metadata": {},
   "source": [
    "#### 4. Temperature conversion from degree Celsius to degree Fahrenheit"
   ]
  },
  {
   "cell_type": "code",
   "execution_count": null,
   "metadata": {},
   "outputs": [],
   "source": [
    "celsius = float(input('Enter Temperature in degree celsiu'))\n",
    "def convert_celsius_to_fahrenheit(celsius):\n",
    "    return (celsius * 9/5) + 32\n",
    "\n",
    "print(convert_celsius_to_fahrenheit(celsius))\n"
   ]
  },
  {
   "cell_type": "markdown",
   "metadata": {},
   "source": [
    "#### 5. A function called check-season"
   ]
  },
  {
   "cell_type": "code",
   "execution_count": null,
   "metadata": {},
   "outputs": [],
   "source": [
    "month = int(input('Enther Month in number (e.g. 1, 2, 3):'))\n",
    "def check_season(month):\n",
    "    if month in [12, 1, 2]:\n",
    "        return \"Winter\"\n",
    "    elif month in [3, 4, 5]:\n",
    "        return \"Spring\"\n",
    "    elif month in [6, 7, 8]:\n",
    "        return \"Summer\"\n",
    "    elif month in [9, 10, 11]:\n",
    "        return \"Autumn\"\n",
    "    else:\n",
    "        return \"Invalid month\"\n",
    "\n",
    "print(check_season(month))"
   ]
  },
  {
   "cell_type": "markdown",
   "metadata": {},
   "source": [
    "#### 7. Fuction to solve Quadratic equation"
   ]
  },
  {
   "cell_type": "code",
   "execution_count": null,
   "metadata": {},
   "outputs": [],
   "source": [
    "a = float(input('Enter coefficient \"a\" of the Quadratic equation:'))\n",
    "b = float(input('Enter coefficient \"b\" of the Quadratic equation:'))\n",
    "c = float(input('Enter constant \"c\" of the Quadratic equation:'))\n",
    "def solve_quadratic_eqn():\n",
    "    discriminant = b**2 - 4*a*c\n",
    "    if discriminant > 0:\n",
    "        root1 = (-b + math.sqrt(discriminant)) / (2*a)\n",
    "        root2 = (-b - math.sqrt(discriminant)) / (2*a)\n",
    "        return root1, root2\n",
    "    elif discriminant == 0:\n",
    "        root = -b / (2*a)\n",
    "        return root,\n",
    "    else:\n",
    "        return \"No real roots\"\n",
    "\n",
    "print(solve_quadratic_eqn())"
   ]
  },
  {
   "cell_type": "markdown",
   "metadata": {},
   "source": [
    "#### 8. Declare a function named print_list"
   ]
  },
  {
   "cell_type": "code",
   "execution_count": null,
   "metadata": {},
   "outputs": [],
   "source": [
    "def print_list(my_list):\n",
    "    for item in my_list:\n",
    "        print(item)\n",
    "\n",
    "print_list([1, 2, 3])"
   ]
  },
  {
   "cell_type": "markdown",
   "metadata": {},
   "source": [
    "#### 9. Reverse list Function"
   ]
  },
  {
   "cell_type": "code",
   "execution_count": null,
   "metadata": {},
   "outputs": [],
   "source": [
    "def reverse_list(my_list):\n",
    "    return my_list[::-1]\n",
    "\n",
    "print(reverse_list([1, 2, 3, 4, 5]))\n",
    "print(reverse_list([\"A\", \"B\", \"C\"]))"
   ]
  },
  {
   "cell_type": "markdown",
   "metadata": {},
   "source": [
    "#### 10. Capitalize list Function"
   ]
  },
  {
   "cell_type": "code",
   "execution_count": null,
   "metadata": {},
   "outputs": [],
   "source": [
    "def capitalize_list_items(my_list):\n",
    "    return [item.capitalize() for item in my_list]\n",
    "\n",
    "print(capitalize_list_items([\"apple\", \"banana\", \"cherry\"]))"
   ]
  },
  {
   "cell_type": "markdown",
   "metadata": {},
   "source": [
    "#### 11. Add item Function "
   ]
  },
  {
   "cell_type": "code",
   "execution_count": null,
   "metadata": {},
   "outputs": [],
   "source": [
    "def add_item(my_list, item):\n",
    "    my_list.append(item)\n",
    "    return my_list\n",
    "\n",
    "food_staff = ['Potato', 'Tomato', 'Mango', 'Milk']\n",
    "print(add_item(food_staff, 'Meat'))\n",
    "\n",
    "numbers = [2, 3, 7, 9]\n",
    "print(add_item(numbers, 5))"
   ]
  },
  {
   "cell_type": "markdown",
   "metadata": {},
   "source": [
    "#### 12. Remove Item Function"
   ]
  },
  {
   "cell_type": "code",
   "execution_count": null,
   "metadata": {},
   "outputs": [],
   "source": [
    "def remove_item(my_list, item):\n",
    "    if item in my_list:\n",
    "        my_list.remove(item)\n",
    "    return my_list\n",
    "\n",
    "food_staff = ['Potato', 'Tomato', 'Mango', 'Milk']\n",
    "print(remove_item(food_staff, 'Mango'))\n",
    "\n",
    "numbers = [2, 3, 7, 9]\n",
    "print(remove_item(numbers, 3))"
   ]
  },
  {
   "cell_type": "markdown",
   "metadata": {},
   "source": [
    "#### 13. Sum of numbers Function"
   ]
  },
  {
   "cell_type": "code",
   "execution_count": 102,
   "metadata": {},
   "outputs": [
    {
     "name": "stdout",
     "output_type": "stream",
     "text": [
      "15\n",
      "55\n",
      "5050\n"
     ]
    }
   ],
   "source": [
    "def sum_of_numbers(n):\n",
    "    return sum(range(1, n + 1))\n",
    "\n",
    "print(sum_of_numbers(5))\n",
    "print(sum_of_numbers(10))\n",
    "print(sum_of_numbers(100))"
   ]
  },
  {
   "cell_type": "markdown",
   "metadata": {},
   "source": [
    "#### 14. Sum of odd numbers"
   ]
  },
  {
   "cell_type": "code",
   "execution_count": 101,
   "metadata": {},
   "outputs": [
    {
     "name": "stdout",
     "output_type": "stream",
     "text": [
      "9\n",
      "25\n",
      "2500\n"
     ]
    }
   ],
   "source": [
    "def sum_of_odds(n):\n",
    "    return sum(i for i in range(1, n + 1) if i % 2 != 0)\n",
    "\n",
    "print(sum_of_odds(5))\n",
    "print(sum_of_odds(10))\n",
    "print(sum_of_odds(100))"
   ]
  },
  {
   "cell_type": "markdown",
   "metadata": {},
   "source": [
    "#### 15. Sum of Even numbers"
   ]
  },
  {
   "cell_type": "code",
   "execution_count": 100,
   "metadata": {},
   "outputs": [
    {
     "name": "stdout",
     "output_type": "stream",
     "text": [
      "6\n",
      "30\n",
      "2550\n"
     ]
    }
   ],
   "source": [
    "def sum_of_even(n):\n",
    "    return sum(i for i in range(1, n + 1) if i % 2 == 0)\n",
    "\n",
    "print(sum_of_even(5))\n",
    "print(sum_of_even(10))\n",
    "print(sum_of_even(100))"
   ]
  },
  {
   "cell_type": "markdown",
   "metadata": {},
   "source": [
    "## Excercise Level 2"
   ]
  },
  {
   "cell_type": "markdown",
   "metadata": {},
   "source": [
    "#### 1. Counting the number of even and odd numbers in an integer"
   ]
  },
  {
   "cell_type": "code",
   "execution_count": 99,
   "metadata": {},
   "outputs": [
    {
     "name": "stdout",
     "output_type": "stream",
     "text": [
      "The number of odds are 50.\n",
      "The number of evens are 50.\n"
     ]
    }
   ],
   "source": [
    "def evens_and_odds(num):\n",
    "    evens = sum(1 for i in range(1, num + 1) if i % 2 == 0)\n",
    "    odds = sum(1 for i in range(1, num + 1) if i % 2 != 0)\n",
    "    return f\"The number of odds are {odds}.\\nThe number of evens are {evens}.\"\n",
    "\n",
    "print(evens_and_odds(100))"
   ]
  },
  {
   "cell_type": "markdown",
   "metadata": {},
   "source": [
    "#### 2. Calcute the factorial of a number"
   ]
  },
  {
   "cell_type": "code",
   "execution_count": 98,
   "metadata": {},
   "outputs": [
    {
     "name": "stdout",
     "output_type": "stream",
     "text": [
      "120\n"
     ]
    }
   ],
   "source": [
    "def factorial(n):\n",
    "    if n == 0 or n == 1:\n",
    "        return 1\n",
    "    else:\n",
    "        return n * factorial(n - 1)\n",
    "\n",
    "print(factorial(5))"
   ]
  },
  {
   "cell_type": "markdown",
   "metadata": {},
   "source": [
    "#### 3. Checking an empty parameter"
   ]
  },
  {
   "cell_type": "code",
   "execution_count": 97,
   "metadata": {},
   "outputs": [
    {
     "name": "stdout",
     "output_type": "stream",
     "text": [
      "True\n"
     ]
    }
   ],
   "source": [
    "def is_empty(value):\n",
    "    return not bool(value)\n",
    "\n",
    "print(is_empty([]))"
   ]
  },
  {
   "cell_type": "markdown",
   "metadata": {},
   "source": [
    "#### 4. Calculate mean, median, mode, range, variance and Standard deviation."
   ]
  },
  {
   "cell_type": "code",
   "execution_count": 85,
   "metadata": {},
   "outputs": [
    {
     "name": "stdout",
     "output_type": "stream",
     "text": [
      "Mean = 5.0\n",
      "Median = 5\n",
      "Mode = [1, 2, 3, 4, 5, 6, 7, 8, 9]\n",
      "Range = 8\n",
      "Variance = 6.666666666666667\n",
      "Standard deviation = 2.581988897471611\n"
     ]
    }
   ],
   "source": [
    "nums = [1, 2, 3, 4, 5, 6, 7, 8, 9]\n",
    "def calculate_mean(nums):\n",
    "    return sum(nums) / len(nums) if nums else None\n",
    "\n",
    "def calculate_median(nums):\n",
    "    sorted_nums = sorted(nums)\n",
    "    n = len(sorted_nums)\n",
    "    middle = n // 2\n",
    "\n",
    "    if n % 2 == 0:\n",
    "        return (sorted_nums[middle - 1] + sorted_nums[middle]) / 2\n",
    "    else:\n",
    "        return sorted_nums[middle]\n",
    "\n",
    "def calculate_mode(nums):\n",
    "    from collections import Counter\n",
    "    counts = Counter(nums)\n",
    "    max_freq = max(counts.values())\n",
    "    return [num for num, freq in counts.items() if freq == max_freq]\n",
    "\n",
    "def calculate_range(nums):\n",
    "    return max(nums) - min(nums) if nums else None\n",
    "\n",
    "def calculate_variance(nums):\n",
    "    mean = calculate_mean(nums)\n",
    "    return sum((x - mean) ** 2 for x in nums) / len(nums) if nums else None\n",
    "\n",
    "def calculate_std(nums):\n",
    "    return calculate_variance(nums) ** 0.5 if nums else None\n",
    "\n",
    "print('Mean =', calculate_mean(nums))\n",
    "print('Median =', calculate_median(nums))\n",
    "print('Mode =', calculate_mode(nums))\n",
    "print('Range =', calculate_range(nums))\n",
    "print('Variance =', calculate_variance(nums))\n",
    "print('Standard deviation =', calculate_std(nums))\n"
   ]
  },
  {
   "cell_type": "markdown",
   "metadata": {},
   "source": [
    "## Exercise Level 3"
   ]
  },
  {
   "cell_type": "markdown",
   "metadata": {},
   "source": [
    "#### 1. Check if a number is prime"
   ]
  },
  {
   "cell_type": "code",
   "execution_count": 86,
   "metadata": {},
   "outputs": [
    {
     "name": "stdout",
     "output_type": "stream",
     "text": [
      "True\n"
     ]
    }
   ],
   "source": [
    "def is_prime(num):\n",
    "    if num < 2:\n",
    "        return False\n",
    "    for i in range(2, int(num**0.5) + 1):\n",
    "        if num % i == 0:\n",
    "            return False\n",
    "    return True\n",
    "\n",
    "print(is_prime(13))"
   ]
  },
  {
   "cell_type": "markdown",
   "metadata": {},
   "source": [
    "#### 2. Check if all items are unique in a list"
   ]
  },
  {
   "cell_type": "code",
   "execution_count": 87,
   "metadata": {},
   "outputs": [
    {
     "name": "stdout",
     "output_type": "stream",
     "text": [
      "True\n",
      "False\n"
     ]
    }
   ],
   "source": [
    "def all_unique(lst):\n",
    "    return len(lst) == len(set(lst))\n",
    "\n",
    "print(all_unique([1, 2, 3, 4, 5]))\n",
    "print(all_unique([1, 2, 2, 3, 4]))"
   ]
  },
  {
   "cell_type": "markdown",
   "metadata": {},
   "source": [
    "#### 3. Check if all the items of the list are of the same data type"
   ]
  },
  {
   "cell_type": "code",
   "execution_count": 88,
   "metadata": {},
   "outputs": [
    {
     "name": "stdout",
     "output_type": "stream",
     "text": [
      "True\n",
      "False\n"
     ]
    }
   ],
   "source": [
    "def same_data_type(lst):\n",
    "    return all(isinstance(lst[i], type(lst[i + 1])) for i in range(len(lst) - 1))\n",
    "\n",
    "print(same_data_type([1, 2, 3]))\n",
    "print(same_data_type([1, 2, 'a']))"
   ]
  },
  {
   "cell_type": "markdown",
   "metadata": {},
   "source": [
    "#### 4. Check if provided variable is a valid python variable"
   ]
  },
  {
   "cell_type": "code",
   "execution_count": 89,
   "metadata": {},
   "outputs": [
    {
     "name": "stdout",
     "output_type": "stream",
     "text": [
      "True\n",
      "False\n"
     ]
    }
   ],
   "source": [
    "def is_valid_variable(variable):\n",
    "    import re\n",
    "    return re.match(r'^[a-zA-Z_][a-zA-Z0-9_]*$', variable) is not None\n",
    "\n",
    "print(is_valid_variable(\"valid_variable\"))\n",
    "print(is_valid_variable(\"2invalid\"))"
   ]
  },
  {
   "cell_type": "markdown",
   "metadata": {},
   "source": [
    "#### 5 i. Function for the most spoken languages in the world"
   ]
  },
  {
   "cell_type": "code",
   "execution_count": 96,
   "metadata": {},
   "outputs": [
    {
     "name": "stdout",
     "output_type": "stream",
     "text": [
      "Most spoken languages in the world:\n",
      "['English', 'French', 'Arabic', 'Spanish', 'Portuguese', 'Russian', 'Dutch', 'German', 'Chinese', 'Serbian']\n"
     ]
    }
   ],
   "source": [
    "def most_spoken_languages():\n",
    "    from operator import itemgetter\n",
    "    import json\n",
    "\n",
    "    with open('countries-data.py', 'r') as file:\n",
    "        countries_data = json.load(file)\n",
    "\n",
    "    languages_count = {}\n",
    "    for country in countries_data:\n",
    "        for language in country['languages']:\n",
    "            languages_count[language] = languages_count.get(language, 0) + 1\n",
    "\n",
    "    sorted_languages = sorted(languages_count.items(), key=itemgetter(1), reverse=True)\n",
    "    return [language[0] for language in sorted_languages[:10]]\n",
    "\n",
    "print('Most spoken languages in the world:')\n",
    "print(most_spoken_languages())\n"
   ]
  },
  {
   "cell_type": "markdown",
   "metadata": {},
   "source": [
    "#### 5 ii. Most populated countries in in the World"
   ]
  },
  {
   "cell_type": "code",
   "execution_count": 95,
   "metadata": {},
   "outputs": [
    {
     "name": "stdout",
     "output_type": "stream",
     "text": [
      "Most populated countries in the world:\n",
      "['China', 'India', 'United States of America', 'Indonesia', 'Brazil', 'Pakistan', 'Nigeria', 'Bangladesh', 'Russian Federation', 'Japan']\n"
     ]
    }
   ],
   "source": [
    "def most_populated_countries():\n",
    "    import json\n",
    "\n",
    "    with open('countries-data.py', 'r') as file:\n",
    "        countries_data = json.load(file)\n",
    "\n",
    "    sorted_countries = sorted(countries_data, key=lambda x: x['population'], reverse=True)\n",
    "    return [country['name'] for country in sorted_countries[:10]]\n",
    "\n",
    "print('Most populated countries in the world:')\n",
    "print(most_populated_countries())"
   ]
  }
 ],
 "metadata": {
  "kernelspec": {
   "display_name": "datascience",
   "language": "python",
   "name": "python3"
  },
  "language_info": {
   "codemirror_mode": {
    "name": "ipython",
    "version": 3
   },
   "file_extension": ".py",
   "mimetype": "text/x-python",
   "name": "python",
   "nbconvert_exporter": "python",
   "pygments_lexer": "ipython3",
   "version": "3.9.18"
  }
 },
 "nbformat": 4,
 "nbformat_minor": 2
}
