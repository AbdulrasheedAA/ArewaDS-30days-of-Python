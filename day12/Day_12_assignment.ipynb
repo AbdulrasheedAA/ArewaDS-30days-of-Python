{
 "cells": [
  {
   "cell_type": "markdown",
   "metadata": {},
   "source": [
    "# Day 12 Assignment "
   ]
  },
  {
   "cell_type": "markdown",
   "metadata": {},
   "source": [
    "## Exercise Level 1"
   ]
  },
  {
   "cell_type": "code",
   "execution_count": 81,
   "metadata": {},
   "outputs": [],
   "source": [
    "import random\n",
    "import string"
   ]
  },
  {
   "cell_type": "markdown",
   "metadata": {},
   "source": [
    "#### 1. Generate six digit random user id"
   ]
  },
  {
   "cell_type": "code",
   "execution_count": 82,
   "metadata": {},
   "outputs": [
    {
     "name": "stdout",
     "output_type": "stream",
     "text": [
      "ak0rvi\n"
     ]
    }
   ],
   "source": [
    "def random_user_id():\n",
    "    return ''.join(random.choice(string.ascii_lowercase + string.digits) for _ in range(6))\n",
    "\n",
    "print(random_user_id())"
   ]
  },
  {
   "cell_type": "markdown",
   "metadata": {},
   "source": [
    "#### 2. Modify the previous task. Declare a function named user_id_gen_by_user. It doesn’t take any parameters but it takes two inputs using input(). One of the inputs is the number of characters and the second input is the number of IDs which are supposed to be generated."
   ]
  },
  {
   "cell_type": "code",
   "execution_count": 83,
   "metadata": {},
   "outputs": [
    {
     "name": "stdout",
     "output_type": "stream",
     "text": [
      "['7AOko', 'wIuwa', 'JEnvL', 'pl9kU', 'Nrffy']\n"
     ]
    }
   ],
   "source": [
    "def user_id_gen_by_user():\n",
    "    char_count = int(input(\"Enter the number of characters: \"))\n",
    "    id_count = int(input(\"Enter the number of IDs to generate: \"))\n",
    "    user_ids = []\n",
    "\n",
    "    for _ in range(id_count):\n",
    "        user_id = ''.join(random.choice(string.ascii_letters + string.digits) for _ in range(char_count))\n",
    "        user_ids.append(user_id)\n",
    "\n",
    "    return user_ids\n",
    "\n",
    "print(user_id_gen_by_user())"
   ]
  },
  {
   "cell_type": "markdown",
   "metadata": {},
   "source": [
    "#### 3. Write a function named rgb_color_gen. It will generate rgb colors (3 values ranging from 0 to 255 each)."
   ]
  },
  {
   "cell_type": "code",
   "execution_count": 84,
   "metadata": {},
   "outputs": [
    {
     "name": "stdout",
     "output_type": "stream",
     "text": [
      "rgb(218,123,88)\n"
     ]
    }
   ],
   "source": [
    "def rgb_color_gen():\n",
    "    red = random.randint(0, 255)\n",
    "    green = random.randint(0, 255)\n",
    "    blue = random.randint(0, 255)\n",
    "    return f'rgb({red},{green},{blue})'\n",
    "\n",
    "print(rgb_color_gen())"
   ]
  },
  {
   "cell_type": "markdown",
   "metadata": {},
   "source": [
    "## Exercise Level 2"
   ]
  },
  {
   "cell_type": "markdown",
   "metadata": {},
   "source": [
    "#### 1. Write a function list_of_hexa_colors which returns any number of hexadecimal colors in an array"
   ]
  },
  {
   "cell_type": "code",
   "execution_count": 85,
   "metadata": {},
   "outputs": [
    {
     "name": "stdout",
     "output_type": "stream",
     "text": [
      "['#d84ce5', '#b9700d', '#666151']\n"
     ]
    }
   ],
   "source": [
    "def list_of_hexa_colors(num_colors):\n",
    "    return ['#' + ''.join(random.choices('0123456789abcdef', k=6)) for _ in range(num_colors)]\n",
    "\n",
    "print(list_of_hexa_colors(3))"
   ]
  },
  {
   "cell_type": "markdown",
   "metadata": {},
   "source": [
    "#### 2. Write a function list_of_rgb_colors which returns any number of RGB colors in an array."
   ]
  },
  {
   "cell_type": "code",
   "execution_count": 86,
   "metadata": {},
   "outputs": [
    {
     "name": "stdout",
     "output_type": "stream",
     "text": [
      "['rgb(59, 5, 196)', 'rgb(161, 129, 99)', 'rgb(20, 242, 129)']\n"
     ]
    }
   ],
   "source": [
    "def list_of_rgb_colors(num_colors):\n",
    "    return [f'rgb({random.randint(0, 255)}, {random.randint(0, 255)}, {random.randint(0, 255)})' for _ in range(num_colors)]\n",
    "\n",
    "print(list_of_rgb_colors(3))"
   ]
  },
  {
   "cell_type": "markdown",
   "metadata": {},
   "source": [
    "#### 3. Write a function generate_colors which can generate any number of hexa or rgb colors."
   ]
  },
  {
   "cell_type": "code",
   "execution_count": 87,
   "metadata": {},
   "outputs": [
    {
     "name": "stdout",
     "output_type": "stream",
     "text": [
      "['#d2d0a1', '#54e3c4', '#60c579']\n",
      "['rgb(62, 144, 247)', 'rgb(54, 165, 73)', 'rgb(26, 148, 225)']\n"
     ]
    }
   ],
   "source": [
    "def generate_colors(color_type, num_colors):\n",
    "    if color_type == 'hexa':\n",
    "        return list_of_hexa_colors(num_colors)\n",
    "    elif color_type == 'rgb':\n",
    "        return list_of_rgb_colors(num_colors)\n",
    "    else:\n",
    "        return []\n",
    "\n",
    "print(generate_colors('hexa', 3))\n",
    "print(generate_colors('rgb', 3))"
   ]
  },
  {
   "cell_type": "markdown",
   "metadata": {},
   "source": [
    "## Exercise Level 3"
   ]
  },
  {
   "cell_type": "markdown",
   "metadata": {},
   "source": [
    "#### 1. Call your function shuffle_list, it takes a list as a parameter and it returns a shuffled list"
   ]
  },
  {
   "cell_type": "code",
   "execution_count": 88,
   "metadata": {},
   "outputs": [
    {
     "name": "stdout",
     "output_type": "stream",
     "text": [
      "Original List: [1, 2, 3, 4, 5]\n",
      "Shuffled List: [2, 3, 4, 5, 1]\n"
     ]
    }
   ],
   "source": [
    "def shuffle_list(my_list):\n",
    "    shuffled_list = my_list.copy()\n",
    "    random.shuffle(shuffled_list)\n",
    "    return shuffled_list\n",
    "\n",
    "original_list = [1, 2, 3, 4, 5]\n",
    "shuffled_result = shuffle_list(original_list)\n",
    "print(f\"Original List: {original_list}\")\n",
    "print(f\"Shuffled List: {shuffled_result}\")"
   ]
  },
  {
   "cell_type": "markdown",
   "metadata": {},
   "source": [
    "#### 2. Write a function which returns an array of seven random numbers in a range of 0-9. All the numbers must be unique."
   ]
  },
  {
   "cell_type": "code",
   "execution_count": 89,
   "metadata": {},
   "outputs": [
    {
     "name": "stdout",
     "output_type": "stream",
     "text": [
      "[9, 0, 7, 1, 4, 5, 2]\n"
     ]
    }
   ],
   "source": [
    "def seven_unique_numbers():\n",
    "    return random.sample(range(10), 7)\n",
    "\n",
    "print(seven_unique_numbers())"
   ]
  }
 ],
 "metadata": {
  "kernelspec": {
   "display_name": "datascience",
   "language": "python",
   "name": "python3"
  },
  "language_info": {
   "codemirror_mode": {
    "name": "ipython",
    "version": 3
   },
   "file_extension": ".py",
   "mimetype": "text/x-python",
   "name": "python",
   "nbconvert_exporter": "python",
   "pygments_lexer": "ipython3",
   "version": "3.9.18"
  }
 },
 "nbformat": 4,
 "nbformat_minor": 2
}
