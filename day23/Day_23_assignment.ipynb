{
 "cells": [
  {
   "cell_type": "markdown",
   "metadata": {},
   "source": [
    "# Day 23 Assignment : Virtual Environment"
   ]
  },
  {
   "cell_type": "markdown",
   "metadata": {},
   "source": [
    "## Task"
   ]
  },
  {
   "cell_type": "markdown",
   "metadata": {},
   "source": [
    "### Create a project directory with a virtual environment"
   ]
  },
  {
   "cell_type": "code",
   "execution_count": null,
   "metadata": {
    "vscode": {
     "languageId": "latex"
    }
   },
   "outputs": [],
   "source": [
    "(base) ultimate@DESKTOP-M42MNNR:~$ pip install virtualenv\n",
    "Collecting virtualenv\n",
    "  Downloading virtualenv-20.25.0-py3-none-any.whl.metadata (4.5 kB)\n",
    "Collecting distlib<1,>=0.3.7 (from virtualenv)\n",
    "  Downloading distlib-0.3.8-py2.py3-none-any.whl.metadata (5.1 kB)\n",
    "Collecting filelock<4,>=3.12.2 (from virtualenv)\n",
    "  Downloading filelock-3.13.1-py3-none-any.whl.metadata (2.8 kB)\n",
    "Collecting platformdirs<5,>=3.9.1 (from virtualenv)\n",
    "  Downloading platformdirs-4.1.0-py3-none-any.whl.metadata (11 kB)\n",
    "Downloading virtualenv-20.25.0-py3-none-any.whl (3.8 MB)\n",
    "   ━━━━━━━━━━━━━━━━━━━━━━━━━━━━━━━━━━━━━━━━ 3.8/3.8 MB 14.5 kB/s eta 0:00:00\n",
    "Downloading distlib-0.3.8-py2.py3-none-any.whl (468 kB)\n",
    "   ━━━━━━━━━━━━━━━━━━━━━━━━━━━━━━━━━━━━━━━━ 468.9/468.9 kB 13.5 kB/s eta 0:00:00\n",
    "Downloading filelock-3.13.1-py3-none-any.whl (11 kB)\n",
    "Downloading platformdirs-4.1.0-py3-none-any.whl (17 kB)\n",
    "Installing collected packages: distlib, platformdirs, filelock, virtualenv\n",
    "Successfully installed distlib-0.3.8 filelock-3.13.1 platformdirs-4.1.0 virtualenv-20.25.0\n",
    "(base) ultimate@DESKTOP-M42MNNR:~$ cd projects/ArewaDS-Workspace/ArewaDS-30days-of-Python/day23/flask_project\n",
    "(base) ultimate@DESKTOP-M42MNNR:~/projects/ArewaDS-Workspace/ArewaDS-30days-of-Python/day23/flask_project$ virtualenv venv\n",
    "created virtual environment CPython3.11.5.final.0-64 in 12580ms\n",
    "  creator CPython3Posix(dest=/home/ultimate/projects/ArewaDS-Workspace/ArewaDS-30days-of-Python/day23/flask_project/venv, clear=False, no_vcs_ignore=False, global=False)\n",
    "  seeder FromAppData(download=False, pip=bundle, setuptools=bundle, wheel=bundle, via=copy, app_data_dir=/home/ultimate/.local/share/virtualenv)\n",
    "    added seed packages: pip==23.3.1, setuptools==69.0.2, wheel==0.42.0\n",
    "  activators BashActivator,CShellActivator,FishActivator,NushellActivator,PowerShellActivator,PythonActivator\n",
    "(base) ultimate@DESKTOP-M42MNNR:~/projects/ArewaDS-Workspace/ArewaDS-30days-of-Python/day23/flask_project$ ls\n",
    "venv\n",
    "(base) ultimate@DESKTOP-M42MNNR:~/projects/ArewaDS-Workspace/ArewaDS-30days-of-Python/day23/flask_project$ source venv/bin/activate\n",
    "(venv) (base) ultimate@DESKTOP-M42MNNR:~/projects/ArewaDS-Workspace/ArewaDS-30days-of-Python/day23/flask_project$ pip install Flask\n",
    "Collecting Flask\n",
    "  Using cached flask-3.0.0-py3-none-any.whl.metadata (3.6 kB)\n",
    "Collecting Werkzeug>=3.0.0 (from Flask)\n",
    "  Using cached werkzeug-3.0.1-py3-none-any.whl.metadata (4.1 kB)\n",
    "Collecting Jinja2>=3.1.2 (from Flask)\n",
    "  Using cached Jinja2-3.1.2-py3-none-any.whl (133 kB)\n",
    "Collecting itsdangerous>=2.1.2 (from Flask)\n",
    "  Using cached itsdangerous-2.1.2-py3-none-any.whl (15 kB)\n",
    "Collecting click>=8.1.3 (from Flask)\n",
    "  Using cached click-8.1.7-py3-none-any.whl.metadata (3.0 kB)\n",
    "Collecting blinker>=1.6.2 (from Flask)\n",
    "  Using cached blinker-1.7.0-py3-none-any.whl.metadata (1.9 kB)\n",
    "Collecting MarkupSafe>=2.0 (from Jinja2>=3.1.2->Flask)\n",
    "  Downloading MarkupSafe-2.1.3-cp311-cp311-manylinux_2_17_x86_64.manylinux2014_x86_64.whl.metadata (3.0 kB)\n",
    "Using cached flask-3.0.0-py3-none-any.whl (99 kB)\n",
    "Using cached blinker-1.7.0-py3-none-any.whl (13 kB)\n",
    "Using cached click-8.1.7-py3-none-any.whl (97 kB)\n",
    "Using cached werkzeug-3.0.1-py3-none-any.whl (226 kB)\n",
    "Downloading MarkupSafe-2.1.3-cp311-cp311-manylinux_2_17_x86_64.manylinux2014_x86_64.whl (28 kB)\n",
    "Installing collected packages: MarkupSafe, itsdangerous, click, blinker, Werkzeug, Jinja2, Flask\n",
    "Successfully installed Flask-3.0.0 Jinja2-3.1.2 MarkupSafe-2.1.3 Werkzeug-3.0.1 blinker-1.7.0 click-8.1.7 itsdangerous-2.1.2\n",
    "\n",
    "[notice] A new release of pip is available: 23.3.1 -> 23.3.2\n",
    "[notice] To update, run: pip install --upgrade pip\n",
    "(venv) (base) ultimate@DESKTOP-M42MNNR:~/projects/ArewaDS-Workspace/ArewaDS-30days-of-Python/day23/flask_project$ pip freeze\n",
    "blinker==1.7.0\n",
    "click==8.1.7\n",
    "Flask==3.0.0\n",
    "itsdangerous==2.1.2\n",
    "Jinja2==3.1.2\n",
    "MarkupSafe==2.1.3\n",
    "Werkzeug==3.0.1\n",
    "(venv) (base) ultimate@DESKTOP-M42MNNR:~/projects/ArewaDS-Workspace/ArewaDS-30days-of-Python/day23/flask_project$ deactivate\n",
    "(base) ultimate@DESKTOP-M42MNNR:~/projects/ArewaDS-Workspace/ArewaDS-30days-of-Python/day23/flask_project$"
   ]
  }
 ],
 "metadata": {
  "kernelspec": {
   "display_name": "datascience",
   "language": "python",
   "name": "python3"
  },
  "language_info": {
   "name": "python",
   "version": "3.9.18"
  }
 },
 "nbformat": 4,
 "nbformat_minor": 2
}
