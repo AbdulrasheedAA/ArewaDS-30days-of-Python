{
 "cells": [
  {
   "cell_type": "markdown",
   "metadata": {},
   "source": [
    "# Day 22 Assignment : Web scraping "
   ]
  },
  {
   "cell_type": "code",
   "execution_count": 1,
   "metadata": {},
   "outputs": [],
   "source": [
    "import requests\n",
    "from bs4 import BeautifulSoup\n",
    "import json"
   ]
  },
  {
   "cell_type": "markdown",
   "metadata": {},
   "source": [
    "## Task 1"
   ]
  },
  {
   "cell_type": "markdown",
   "metadata": {},
   "source": [
    "### Scrape and store the data from a website as json file "
   ]
  },
  {
   "cell_type": "code",
   "execution_count": 2,
   "metadata": {},
   "outputs": [
    {
     "name": "stdout",
     "output_type": "stream",
     "text": [
      "Data has been scraped and saved as 'scraped_data.json'.\n"
     ]
    }
   ],
   "source": [
    "url = 'http://www.bu.edu/president/boston-university-facts-stats/'\n",
    "\n",
    "response = requests.get(url)\n",
    "\n",
    "if response.status_code == 200:\n",
    "    soup = BeautifulSoup(response.text, 'html.parser')\n",
    "\n",
    "    # Find all HTML elements on the page\n",
    "    all_elements = soup.find_all()\n",
    "\n",
    "    # Extract data and store in a list of dictionaries\n",
    "    data_list = []\n",
    "    for element in all_elements:\n",
    "        # Extract relevant information from the element\n",
    "        tag = element.name\n",
    "        text = element.get_text(strip=True)\n",
    "\n",
    "        # Skip empty text\n",
    "        if text:\n",
    "            info = {\n",
    "                'tag': tag,\n",
    "                'text': text\n",
    "            }\n",
    "            data_list.append(info)\n",
    "\n",
    "    # Convert the list of dictionaries to JSON\n",
    "    data_json = json.dumps(data_list, indent=2)\n",
    "\n",
    "    # Save the JSON data to a file\n",
    "    with open('scraped_data.json', 'w') as json_file:\n",
    "        json_file.write(data_json)\n",
    "\n",
    "    print(\"Data has been scraped and saved as 'scraped_data.json'.\")\n",
    "else:\n",
    "    print(f\"Failed to retrieve data. Status code: {response.status_code}\")\n"
   ]
  },
  {
   "cell_type": "markdown",
   "metadata": {},
   "source": [
    "## Task 2"
   ]
  },
  {
   "cell_type": "markdown",
   "metadata": {},
   "source": [
    "### Extract the table in url and change it to a json file"
   ]
  },
  {
   "cell_type": "code",
   "execution_count": 3,
   "metadata": {},
   "outputs": [
    {
     "name": "stdout",
     "output_type": "stream",
     "text": [
      "Failed to retrieve data. Status code: 404\n"
     ]
    }
   ],
   "source": [
    "\n",
    "url = 'https://archive.ics.uci.edu/ml/datasets.php'\n",
    "\n",
    "response = requests.get(url)\n",
    "\n",
    "if response.status_code == 200:\n",
    "    soup = BeautifulSoup(response.text, 'html.parser')\n",
    "\n",
    "    # Find the table containing the datasets\n",
    "    dataset_table = soup.find('table', {'border': '1', 'cellpadding': '6'})\n",
    "\n",
    "    if dataset_table:\n",
    "        # Initialize an empty list to store the data\n",
    "        dataset_list = []\n",
    "\n",
    "        # Extract data from the table rows\n",
    "        for row in dataset_table.find_all('tr')[1:]:\n",
    "            columns = row.find_all('td')\n",
    "            dataset_info = {\n",
    "                'columns': columns,\n",
    "                'row': row\n",
    "                \n",
    "            }\n",
    "            dataset_list.append(dataset_info)\n",
    "\n",
    "        # Convert the list of dictionaries to JSON\n",
    "        dataset_json = json.dumps(dataset_list, indent=2)\n",
    "\n",
    "        # Save the JSON data to a file\n",
    "        with open('datasets.json', 'w') as json_file:\n",
    "            json_file.write(dataset_json)\n",
    "\n",
    "        print(\"Data has been scraped and saved as 'datasets.json'.\")\n",
    "    else:\n",
    "        print(\"Table not found on the page.\")\n",
    "else:\n",
    "    print(f\"Failed to retrieve data. Status code: {response.status_code}\")\n"
   ]
  },
  {
   "cell_type": "markdown",
   "metadata": {},
   "source": [
    "## Task 3"
   ]
  },
  {
   "cell_type": "markdown",
   "metadata": {},
   "source": [
    "### Scrape the presidents table from Wikipedia and store the data as JSON"
   ]
  },
  {
   "cell_type": "code",
   "execution_count": 4,
   "metadata": {},
   "outputs": [
    {
     "name": "stdout",
     "output_type": "stream",
     "text": [
      "Data has been scraped and saved as 'presidents.json'.\n"
     ]
    }
   ],
   "source": [
    "url = \"https://en.wikipedia.org/wiki/List_of_presidents_of_the_United_States\"\n",
    "\n",
    "response = requests.get(url)\n",
    "\n",
    "if response.status_code == 200:\n",
    "    soup = BeautifulSoup(response.text, 'html.parser')\n",
    "\n",
    "    # Find the table containing the list of presidents\n",
    "    presidents_table = soup.find('table', {'class': 'wikitable'})\n",
    "\n",
    "    # Initialize an empty list to store the data\n",
    "    presidents_data = []\n",
    "\n",
    "    # Iterate through rows in the table\n",
    "    for row in presidents_table.find_all('tr')[1:]:\n",
    "        columns = row.find_all(['th', 'td'])\n",
    "\n",
    "        # Extract relevant data from columns\n",
    "        number = columns[0].text.strip()\n",
    "        name_Birth_and_death = columns[2].text.strip()\n",
    "        term = columns[3].text.strip()\n",
    "        party = columns[5].text.strip()\n",
    "        election = columns[6].text.strip()\n",
    "        vice_president = columns[7].text.strip()\n",
    "\n",
    "        # Create a dictionary for each president\n",
    "        president_info = {\n",
    "            'number': number,\n",
    "            'name_Birth_and_death' : name_Birth_and_death,\n",
    "            'term': term,\n",
    "            'party': party,\n",
    "            'election': election,\n",
    "            'vice_president': vice_president\n",
    "            \n",
    "        }\n",
    "\n",
    "        # Append the dictionary to the list\n",
    "        presidents_data.append(president_info)\n",
    "\n",
    "    # Convert the list of dictionaries to JSON\n",
    "    presidents_json = json.dumps(presidents_data, indent=2)\n",
    "\n",
    "    # Save the JSON data to a file\n",
    "    with open('presidents.json', 'w') as json_file:\n",
    "        json_file.write(presidents_json)\n",
    "\n",
    "    print(\"Data has been scraped and saved as 'presidents.json'.\")\n",
    "else:\n",
    "    print(f\"Failed to retrieve data. Status code: {response.status_code}\")\n"
   ]
  }
 ],
 "metadata": {
  "kernelspec": {
   "display_name": "datascience",
   "language": "python",
   "name": "python3"
  },
  "language_info": {
   "codemirror_mode": {
    "name": "ipython",
    "version": 3
   },
   "file_extension": ".py",
   "mimetype": "text/x-python",
   "name": "python",
   "nbconvert_exporter": "python",
   "pygments_lexer": "ipython3",
   "version": "3.9.18"
  }
 },
 "nbformat": 4,
 "nbformat_minor": 2
}
