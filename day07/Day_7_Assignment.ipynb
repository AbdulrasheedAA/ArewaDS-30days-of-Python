{
 "cells": [
  {
   "cell_type": "markdown",
   "metadata": {},
   "source": [
    "# Day 7 Assignment : Sets"
   ]
  },
  {
   "cell_type": "markdown",
   "metadata": {},
   "source": [
    "## Exercise Level 1"
   ]
  },
  {
   "cell_type": "markdown",
   "metadata": {},
   "source": [
    "#### Set"
   ]
  },
  {
   "cell_type": "code",
   "execution_count": 1,
   "metadata": {},
   "outputs": [],
   "source": [
    "it_companies = {'Facebook', 'Google', 'Microsoft', 'Apple', 'IBM', 'Oracle', 'Amazon'}\n",
    "A = {19, 22, 24, 20, 25, 26}\n",
    "B = {19, 22, 20, 25, 26, 24, 28, 27}\n",
    "age = [22, 19, 24, 25, 26, 24, 25, 24]\n"
   ]
  },
  {
   "cell_type": "markdown",
   "metadata": {},
   "source": [
    "#### 1. Find the length of the set it_companies"
   ]
  },
  {
   "cell_type": "code",
   "execution_count": 2,
   "metadata": {},
   "outputs": [
    {
     "name": "stdout",
     "output_type": "stream",
     "text": [
      "Length of IT companies: 7\n"
     ]
    }
   ],
   "source": [
    "print(\"Length of IT companies:\", len(it_companies))"
   ]
  },
  {
   "cell_type": "markdown",
   "metadata": {},
   "source": [
    "\n",
    "#### 2. Add 'Twitter' to it_companies"
   ]
  },
  {
   "cell_type": "code",
   "execution_count": 3,
   "metadata": {},
   "outputs": [
    {
     "name": "stdout",
     "output_type": "stream",
     "text": [
      "Updated IT companies: {'Google', 'Twitter', 'Oracle', 'Microsoft', 'Amazon', 'IBM', 'Apple', 'Facebook'}\n"
     ]
    }
   ],
   "source": [
    "it_companies.add('Twitter')\n",
    "print(\"Updated IT companies:\", it_companies)"
   ]
  },
  {
   "cell_type": "markdown",
   "metadata": {},
   "source": [
    "#### 3. Insert multiple IT companies at once to the set it_companies"
   ]
  },
  {
   "cell_type": "code",
   "execution_count": 4,
   "metadata": {},
   "outputs": [
    {
     "name": "stdout",
     "output_type": "stream",
     "text": [
      "Updated IT companies: {'Twitter', 'Oracle', 'Microsoft', 'Tesla', 'Google', 'IBM', 'Netflix', 'Amazon', 'Apple', 'Facebook', 'LinkedIn'}\n"
     ]
    }
   ],
   "source": [
    "it_companies.update(['LinkedIn', 'Netflix', 'Tesla'])\n",
    "print(\"Updated IT companies:\", it_companies)"
   ]
  },
  {
   "cell_type": "markdown",
   "metadata": {},
   "source": [
    "#### 4. Remove one of the companies from the set it_companies"
   ]
  },
  {
   "cell_type": "code",
   "execution_count": 5,
   "metadata": {},
   "outputs": [
    {
     "name": "stdout",
     "output_type": "stream",
     "text": [
      "Updated IT companies after removal: {'Twitter', 'Oracle', 'Microsoft', 'Google', 'IBM', 'Netflix', 'Amazon', 'Apple', 'Facebook', 'LinkedIn'}\n"
     ]
    }
   ],
   "source": [
    "it_companies.remove('Tesla')\n",
    "print(\"Updated IT companies after removal:\", it_companies)"
   ]
  },
  {
   "cell_type": "markdown",
   "metadata": {},
   "source": [
    "#### 5. What is the difference between remove and discard?\n",
    "\n",
    "##### The main difference between remove and discard is that `remove` raises an error if the element is not present, while `discard` does not. Using remove on a non-existent element would raise a KeyError\n",
    "\n",
    "##### For example:\n"
   ]
  },
  {
   "cell_type": "code",
   "execution_count": 6,
   "metadata": {},
   "outputs": [
    {
     "name": "stdout",
     "output_type": "stream",
     "text": [
      "Error: 'Tesla'\n",
      "Error: 'Tesla' not found in IT companies.\n",
      "Updated IT companies after discard: {'Twitter', 'Oracle', 'Microsoft', 'Google', 'IBM', 'Netflix', 'Amazon', 'Apple', 'Facebook', 'LinkedIn'}\n"
     ]
    }
   ],
   "source": [
    "try:\n",
    "    it_companies.remove('Tesla')\n",
    "    print(\"Updated IT companies after removal:\", it_companies)\n",
    "except KeyError as e:\n",
    "       print(f\"Error: {e}\")\n",
    "       print(\"Error: 'Tesla' not found in IT companies.\")\n",
    "\n",
    "it_companies.discard('Tesla')\n",
    "print(\"Updated IT companies after discard:\", it_companies)\n"
   ]
  },
  {
   "cell_type": "markdown",
   "metadata": {},
   "source": [
    "## Exercise Level 2"
   ]
  },
  {
   "cell_type": "markdown",
   "metadata": {},
   "source": [
    "#### 1. Join A and B"
   ]
  },
  {
   "cell_type": "code",
   "execution_count": 7,
   "metadata": {},
   "outputs": [
    {
     "name": "stdout",
     "output_type": "stream",
     "text": [
      "Joined set of A and B: {19, 20, 22, 24, 25, 26, 27, 28}\n"
     ]
    }
   ],
   "source": [
    "joined_set = A.union(B)\n",
    "print(\"Joined set of A and B:\", joined_set)\n"
   ]
  },
  {
   "cell_type": "markdown",
   "metadata": {},
   "source": [
    "#### 2. Find A intersection B"
   ]
  },
  {
   "cell_type": "code",
   "execution_count": 8,
   "metadata": {},
   "outputs": [
    {
     "name": "stdout",
     "output_type": "stream",
     "text": [
      "Intersection of A and B: {19, 20, 22, 24, 25, 26}\n"
     ]
    }
   ],
   "source": [
    "intersection_set = A.intersection(B)\n",
    "print(\"Intersection of A and B:\", intersection_set)"
   ]
  },
  {
   "cell_type": "markdown",
   "metadata": {},
   "source": [
    "#### 3. Is A subset of B"
   ]
  },
  {
   "cell_type": "code",
   "execution_count": 9,
   "metadata": {},
   "outputs": [
    {
     "name": "stdout",
     "output_type": "stream",
     "text": [
      "Is A a subset of B: True\n"
     ]
    }
   ],
   "source": [
    "is_subset = A.issubset(B)\n",
    "print(\"Is A a subset of B:\", is_subset)"
   ]
  },
  {
   "cell_type": "markdown",
   "metadata": {},
   "source": [
    "#### 4. Are A and B disjoint sets"
   ]
  },
  {
   "cell_type": "code",
   "execution_count": 10,
   "metadata": {},
   "outputs": [
    {
     "name": "stdout",
     "output_type": "stream",
     "text": [
      "Are A and B disjoint sets: False\n"
     ]
    }
   ],
   "source": [
    "are_disjoint = A.isdisjoint(B)\n",
    "print(\"Are A and B disjoint sets:\", are_disjoint)"
   ]
  },
  {
   "cell_type": "markdown",
   "metadata": {},
   "source": [
    "\n",
    "#### 5. Join A with B and B with A"
   ]
  },
  {
   "cell_type": "code",
   "execution_count": 11,
   "metadata": {},
   "outputs": [
    {
     "name": "stdout",
     "output_type": "stream",
     "text": [
      "Joined A with B: {19, 20, 22, 24, 25, 26, 27, 28}\n",
      "Joined B with A: {19, 20, 22, 24, 25, 26, 27, 28}\n"
     ]
    }
   ],
   "source": [
    "joined_AB = A.union(B)\n",
    "joined_BA = B.union(A)\n",
    "print(\"Joined A with B:\", joined_AB)\n",
    "print(\"Joined B with A:\", joined_BA)"
   ]
  },
  {
   "cell_type": "markdown",
   "metadata": {},
   "source": [
    "#### 6. What is the symmetric difference between A and B"
   ]
  },
  {
   "cell_type": "code",
   "execution_count": 12,
   "metadata": {},
   "outputs": [
    {
     "name": "stdout",
     "output_type": "stream",
     "text": [
      "Symmetric difference between A and B: {27, 28}\n"
     ]
    }
   ],
   "source": [
    "symmetric_difference = A.symmetric_difference(B)\n",
    "print(\"Symmetric difference between A and B:\", symmetric_difference)"
   ]
  },
  {
   "cell_type": "markdown",
   "metadata": {},
   "source": [
    "#### 7. Delete the sets completely"
   ]
  },
  {
   "cell_type": "code",
   "execution_count": 13,
   "metadata": {},
   "outputs": [
    {
     "name": "stdout",
     "output_type": "stream",
     "text": [
      "Error: name 'it_companies' is not defined\n",
      "The set does not exist. It might have been deleted.\n"
     ]
    }
   ],
   "source": [
    "del it_companies\n",
    "del A\n",
    "del B\n",
    "\n",
    "try:\n",
    "    print(it_companies)\n",
    "    print(A)\n",
    "    print(B)\n",
    "\n",
    "except NameError as e:\n",
    "    print(f\"Error: {e}\")\n",
    "    print(\"The set does not exist. It might have been deleted.\")"
   ]
  },
  {
   "cell_type": "markdown",
   "metadata": {},
   "source": [
    "## Exercise Level 3"
   ]
  },
  {
   "cell_type": "markdown",
   "metadata": {},
   "source": [
    "#### 1. Convert the ages to a set and compare the length of the list and the set, which one is bigger?"
   ]
  },
  {
   "cell_type": "code",
   "execution_count": 14,
   "metadata": {},
   "outputs": [
    {
     "name": "stdout",
     "output_type": "stream",
     "text": [
      "Length of age list: 8\n",
      "Length of age set: 5\n",
      "Is the set larger than the list? False\n"
     ]
    }
   ],
   "source": [
    "age_set = set(age)\n",
    "print(\"Length of age list:\", len(age))\n",
    "print(\"Length of age set:\", len(age_set))\n",
    "print(\"Is the set larger than the list?\", len(age_set) > len(age))"
   ]
  },
  {
   "cell_type": "markdown",
   "metadata": {},
   "source": [
    "#### 2. Explain the difference between the following data types: string, list, tuple, and set?\n",
    "##### Strings are immutable sequences of characters, lists are mutable sequences, tuples are immutable sequences, and sets are mutable unordered collections of unique elements.\n"
   ]
  },
  {
   "cell_type": "markdown",
   "metadata": {},
   "source": [
    "#### 3. I am a teacher and I love to inspire and teach people.\n",
    "#### How many unique words have been used in the sentence? Use the split methods and set to get the unique words."
   ]
  },
  {
   "cell_type": "code",
   "execution_count": 15,
   "metadata": {},
   "outputs": [
    {
     "name": "stdout",
     "output_type": "stream",
     "text": [
      "Number of unique words: 10\n"
     ]
    }
   ],
   "source": [
    "sentence = \"I am a teacher and I love to inspire and teach people.\"\n",
    "unique_words = set(sentence.split())\n",
    "print(\"Number of unique words:\", len(unique_words))"
   ]
  }
 ],
 "metadata": {
  "kernelspec": {
   "display_name": "datascience",
   "language": "python",
   "name": "python3"
  },
  "language_info": {
   "codemirror_mode": {
    "name": "ipython",
    "version": 3
   },
   "file_extension": ".py",
   "mimetype": "text/x-python",
   "name": "python",
   "nbconvert_exporter": "python",
   "pygments_lexer": "ipython3",
   "version": "3.9.18"
  }
 },
 "nbformat": 4,
 "nbformat_minor": 2
}
