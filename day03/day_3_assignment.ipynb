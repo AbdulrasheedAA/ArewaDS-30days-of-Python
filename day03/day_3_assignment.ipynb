{
 "cells": [
  {
   "cell_type": "markdown",
   "metadata": {},
   "source": [
    "# Day 3 Assignment : Operators"
   ]
  },
  {
   "cell_type": "markdown",
   "metadata": {},
   "source": [
    "## Task 1 - 3\n",
    "### Declaring data type"
   ]
  },
  {
   "cell_type": "code",
   "execution_count": 1,
   "metadata": {},
   "outputs": [],
   "source": [
    "import math"
   ]
  },
  {
   "cell_type": "code",
   "execution_count": 2,
   "metadata": {},
   "outputs": [
    {
     "name": "stdout",
     "output_type": "stream",
     "text": [
      "<class 'int'>\n",
      "<class 'float'>\n",
      "<class 'complex'>\n"
     ]
    }
   ],
   "source": [
    "my_age = int(29)\n",
    "my_height = float(5.9)\n",
    "complex_number = 2 + 3j\n",
    "\n",
    "print(type(my_age))\n",
    "print(type(my_height))\n",
    "print(type(complex_number))"
   ]
  },
  {
   "cell_type": "markdown",
   "metadata": {},
   "source": [
    "## Task 4\n",
    "### Calculate Area of a Triangle"
   ]
  },
  {
   "cell_type": "code",
   "execution_count": 3,
   "metadata": {},
   "outputs": [
    {
     "name": "stdout",
     "output_type": "stream",
     "text": [
      "The area of the triangle is 30.0\n"
     ]
    }
   ],
   "source": [
    "base = float(input(\"Enter base of the triangle: \"))\n",
    "height = float(input(\"Enter height of the triangle: \"))\n",
    "triangle_area = 0.5 * base * height\n",
    "print(f\"The area of the triangle is {triangle_area}\")"
   ]
  },
  {
   "cell_type": "markdown",
   "metadata": {},
   "source": [
    "## Task 5\n",
    "### Calculate Perimeter of a Triangle"
   ]
  },
  {
   "cell_type": "code",
   "execution_count": 4,
   "metadata": {},
   "outputs": [
    {
     "name": "stdout",
     "output_type": "stream",
     "text": [
      "The perimeter of the triangle is 30.0\n"
     ]
    }
   ],
   "source": [
    "side_a = float(input(\"Enter side a of the triangle: \"))\n",
    "side_b = float(input(\"Enter side b of the triangle: \"))\n",
    "side_c = float(input(\"Enter side c of the triangle: \"))\n",
    "triangle_perimeter = side_a + side_b + side_c\n",
    "print(f\"The perimeter of the triangle is {triangle_perimeter}\")"
   ]
  },
  {
   "cell_type": "markdown",
   "metadata": {},
   "source": [
    "\n",
    "## Task 6\n",
    "### Calculate Area and Perimeter of a Rectangle"
   ]
  },
  {
   "cell_type": "code",
   "execution_count": 5,
   "metadata": {},
   "outputs": [
    {
     "name": "stdout",
     "output_type": "stream",
     "text": [
      "The area of the rectangle is 275.0\n",
      "The perimeter of the rectangle is 72.0\n"
     ]
    }
   ],
   "source": [
    "length = float(input(\"Enter length of the rectangle: \"))\n",
    "width = float(input(\"Enter width of the rectangle: \"))\n",
    "rectangle_area = length * width\n",
    "rectangle_perimeter = 2 * (length + width)\n",
    "print(f\"The area of the rectangle is {rectangle_area}\")\n",
    "print(f\"The perimeter of the rectangle is {rectangle_perimeter}\")"
   ]
  },
  {
   "cell_type": "markdown",
   "metadata": {},
   "source": [
    "## Task 7\n",
    "### Calculate the Area and Circumference of a Circle"
   ]
  },
  {
   "cell_type": "code",
   "execution_count": 6,
   "metadata": {},
   "outputs": [
    {
     "name": "stdout",
     "output_type": "stream",
     "text": [
      "The area of the circle is 254.46900494077323\n",
      "The circumference of the circle is 56.548667764616276\n"
     ]
    }
   ],
   "source": [
    "radius = float(input(\"Enter the radius of the circle: \"))\n",
    "circle_area = math.pi * radius**2\n",
    "circle_circumference = 2 * math.pi * radius\n",
    "print(f\"The area of the circle is {circle_area}\")\n",
    "print(f\"The circumference of the circle is {circle_circumference}\")"
   ]
  },
  {
   "cell_type": "markdown",
   "metadata": {},
   "source": [
    "## Task 8\n",
    "### Find  slope, x-intercept and y-intercept of the equation: y = 2x -2\n",
    "\n",
    "#### From the equation y = mx + b \n",
    "#### Where: m coefficient of x is the slope,\n",
    "####        b constant is the y_intercept\n"
   ]
  },
  {
   "cell_type": "code",
   "execution_count": 7,
   "metadata": {},
   "outputs": [
    {
     "name": "stdout",
     "output_type": "stream",
     "text": [
      "Slope: 2\n",
      "X-intercept: (1.0, 0)\n",
      "Y-intercept: (0, -2)\n"
     ]
    }
   ],
   "source": [
    "slope = 2\n",
    "y_intercept = -2\n",
    "x_intercept = -y_intercept / slope\n",
    "\n",
    "print(f\"Slope: {slope}\")\n",
    "print(f\"X-intercept: ({x_intercept}, 0)\")\n",
    "print(f\"Y-intercept: (0, {y_intercept})\")"
   ]
  },
  {
   "cell_type": "markdown",
   "metadata": {},
   "source": [
    "## Task 9\n",
    "### Calculate slope and Euclidean distance"
   ]
  },
  {
   "cell_type": "code",
   "execution_count": 8,
   "metadata": {},
   "outputs": [
    {
     "name": "stdout",
     "output_type": "stream",
     "text": [
      "Slope: 2.0, Euclidean Distance: 8.944\n"
     ]
    }
   ],
   "source": [
    "x1, y1 = 2, 2\n",
    "x2, y2 = 6, 10\n",
    "slope_9 = (y2 - y1) / (x2 - x1)\n",
    "euclidean_distance = round(math.sqrt((x2 - x1)**2 + (y2 - y1)**2),3)\n",
    "print(f\"Slope: {slope_9}, Euclidean Distance: {euclidean_distance}\")\n"
   ]
  },
  {
   "cell_type": "markdown",
   "metadata": {},
   "source": [
    "## Task 10\n",
    "### Compare slopes"
   ]
  },
  {
   "cell_type": "code",
   "execution_count": 9,
   "metadata": {},
   "outputs": [
    {
     "name": "stdout",
     "output_type": "stream",
     "text": [
      "The slopes are equal.\n"
     ]
    }
   ],
   "source": [
    "if slope == slope_9:\n",
    "    print(\"The slopes are equal.\")\n",
    "else:\n",
    "    print(\"The slopes are not equal.\")"
   ]
  },
  {
   "cell_type": "markdown",
   "metadata": {},
   "source": [
    "## Task 11\n",
    "### Calculate y values"
   ]
  },
  {
   "cell_type": "code",
   "execution_count": 10,
   "metadata": {},
   "outputs": [
    {
     "name": "stdout",
     "output_type": "stream",
     "text": [
      "For x = 0, y = 9\n",
      "For x = 1, y = 16\n",
      "For x = 2, y = 25\n",
      "For x = 3, y = 36\n",
      "For x = 4, y = 49\n",
      "For x = 5, y = 64\n",
      "For x = 6, y = 81\n",
      "For x = 7, y = 100\n",
      "For x = 8, y = 121\n",
      "For x = 9, y = 144\n"
     ]
    }
   ],
   "source": [
    "x_values = [ 0, 1, 2, 3, 4, 5, 6, 7, 8, 9]\n",
    "for x_value in x_values:\n",
    "    y_value = x_value**2 + 6*x_value + 9\n",
    "    print(f\"For x = {x_value}, y = {y_value}\")"
   ]
  },
  {
   "cell_type": "markdown",
   "metadata": {},
   "source": [
    "## Task 12\n",
    "### Falsy comparison statement"
   ]
  },
  {
   "cell_type": "code",
   "execution_count": 11,
   "metadata": {},
   "outputs": [
    {
     "name": "stdout",
     "output_type": "stream",
     "text": [
      "The length of 'python' is 6 and 'dragon' is 6.\n",
      "The statement 'Length of python is not equal to length of dragon' is False.\n"
     ]
    }
   ],
   "source": [
    "length_python = len('python')\n",
    "length_dragon = len('dragon')\n",
    "print(f\"The length of 'python' is {length_python} and 'dragon' is {length_dragon}.\")\n",
    "print(f\"The statement 'Length of python is not equal to length of dragon' is {length_python != length_dragon}.\")\n"
   ]
  },
  {
   "cell_type": "markdown",
   "metadata": {},
   "source": [
    "## Task 13\n",
    "### Check if 'on' is found in both 'python' and 'dragon'"
   ]
  },
  {
   "cell_type": "code",
   "execution_count": 12,
   "metadata": {},
   "outputs": [
    {
     "name": "stdout",
     "output_type": "stream",
     "text": [
      "'on' is found in both 'python' and 'dragon'.\n"
     ]
    }
   ],
   "source": [
    "if 'on' in 'python' and 'on' in 'dragon':\n",
    "    print(\"'on' is found in both 'python' and 'dragon'.\")\n",
    "else:\n",
    "    print(\"'on' is not found in both 'python' and 'dragon'.\")\n"
   ]
  },
  {
   "cell_type": "markdown",
   "metadata": {},
   "source": [
    "## Task 14\n",
    "### Check if 'jargon' is in the sentence"
   ]
  },
  {
   "cell_type": "code",
   "execution_count": 13,
   "metadata": {},
   "outputs": [
    {
     "name": "stdout",
     "output_type": "stream",
     "text": [
      "'jargon' is in the sentence.\n"
     ]
    }
   ],
   "source": [
    "sentence = \"I hope this course is not full of jargon\"\n",
    "if 'jargon' in sentence:\n",
    "    print(\"'jargon' is in the sentence.\")\n",
    "else:\n",
    "    print(\"'jargon' is not in the sentence.\")"
   ]
  },
  {
   "cell_type": "markdown",
   "metadata": {},
   "source": [
    "## Task 15"
   ]
  },
  {
   "cell_type": "code",
   "execution_count": 14,
   "metadata": {},
   "outputs": [
    {
     "name": "stdout",
     "output_type": "stream",
     "text": [
      "There is 'on' in either 'dragon' or 'python'.\n"
     ]
    }
   ],
   "source": [
    "string_dragon = 'dragon'\n",
    "string_python = 'python'\n",
    "\n",
    "if 'on' not in string_dragon and 'on' not in string_python:\n",
    "    print(\"There is no 'on' in both 'dragon' and 'python'.\")\n",
    "else:\n",
    "    print(\"There is 'on' in either 'dragon' or 'python'.\")"
   ]
  },
  {
   "cell_type": "markdown",
   "metadata": {},
   "source": [
    "## Task 16\n",
    "### Convert the length of 'python' to float and then to string"
   ]
  },
  {
   "cell_type": "code",
   "execution_count": 15,
   "metadata": {},
   "outputs": [
    {
     "name": "stdout",
     "output_type": "stream",
     "text": [
      "The length of 'python' as a float is 6.0 and as a string is 6.0.\n"
     ]
    }
   ],
   "source": [
    "length_python_float = float(length_python)\n",
    "length_python_str = str(length_python_float)\n",
    "print(f\"The length of 'python' as a float is {length_python_float} and as a string is {length_python_str}.\")"
   ]
  },
  {
   "cell_type": "markdown",
   "metadata": {},
   "source": [
    "## Task 17\n",
    "### Check if a number is even or not"
   ]
  },
  {
   "cell_type": "code",
   "execution_count": 25,
   "metadata": {},
   "outputs": [
    {
     "name": "stdout",
     "output_type": "stream",
     "text": [
      "15 is not an even number.\n"
     ]
    }
   ],
   "source": [
    "number = int(input('Enter any number: '))\n",
    "if number % 2 == 0:\n",
    "    print(f\"{number} is an even number.\")\n",
    "else:\n",
    "    print(f\"{number} is not an even number.\")\n",
    "\n"
   ]
  },
  {
   "cell_type": "markdown",
   "metadata": {},
   "source": [
    "## Task 18\n",
    "### Check if floor division of 7 by 3 is equal to the int converted value of 2.7"
   ]
  },
  {
   "cell_type": "code",
   "execution_count": 17,
   "metadata": {},
   "outputs": [
    {
     "name": "stdout",
     "output_type": "stream",
     "text": [
      "The floor division of 7 by 3 is equal to the int converted value of 2.7.\n"
     ]
    }
   ],
   "source": [
    "if 7 // 3 == int(2.7):\n",
    "    print(\"The floor division of 7 by 3 is equal to the int converted value of 2.7.\")\n",
    "else:\n",
    "    print(\"The condition is not met.\")\n"
   ]
  },
  {
   "cell_type": "markdown",
   "metadata": {},
   "source": [
    "## Task 19\n",
    "### Check if type of '10' is equal to type of 10"
   ]
  },
  {
   "cell_type": "code",
   "execution_count": 18,
   "metadata": {},
   "outputs": [
    {
     "name": "stdout",
     "output_type": "stream",
     "text": [
      "The types are not equal.\n"
     ]
    }
   ],
   "source": [
    "if type('10') == type(10):\n",
    "    print(\"The types are equal.\")\n",
    "else:\n",
    "    print(\"The types are not equal.\")"
   ]
  },
  {
   "cell_type": "markdown",
   "metadata": {},
   "source": [
    "## Task 20\n",
    "### Check if int('9.8') is equal to 10"
   ]
  },
  {
   "cell_type": "code",
   "execution_count": 19,
   "metadata": {},
   "outputs": [
    {
     "name": "stdout",
     "output_type": "stream",
     "text": [
      "The conversion failed. '9.8' is not a valid integer.\n"
     ]
    }
   ],
   "source": [
    "try:\n",
    "    value = int('9.8')\n",
    "    if value == 10:\n",
    "        print(\"The conversion and comparison were successful.\")\n",
    "    else:\n",
    "        print(\"The comparison failed.\")\n",
    "except ValueError:\n",
    "    print(\"The conversion failed. '9.8' is not a valid integer.\")"
   ]
  },
  {
   "cell_type": "markdown",
   "metadata": {},
   "source": [
    "## Task 21\n",
    "### Calculate pay based on hours and rate per hour"
   ]
  },
  {
   "cell_type": "code",
   "execution_count": 20,
   "metadata": {},
   "outputs": [
    {
     "name": "stdout",
     "output_type": "stream",
     "text": [
      "Your weekly earning is 96.0\n"
     ]
    }
   ],
   "source": [
    "hours = float(input(\"Enter hours: \"))\n",
    "rate_per_hour = float(input(\"Enter rate per hour: \"))\n",
    "weekly_earning = hours * rate_per_hour\n",
    "print(f\"Your weekly earning is {weekly_earning}\")"
   ]
  },
  {
   "cell_type": "markdown",
   "metadata": {},
   "source": [
    "## Task 22\n",
    "### Calculate the number of seconds a person can live"
   ]
  },
  {
   "cell_type": "code",
   "execution_count": 21,
   "metadata": {},
   "outputs": [
    {
     "name": "stdout",
     "output_type": "stream",
     "text": [
      "You have lived for 914544000.0 seconds.\n"
     ]
    }
   ],
   "source": [
    "years_lived = float(input(\"Enter number of years you have lived: \"))\n",
    "seconds_in_a_year = 60 * 60 * 24 * 365\n",
    "total_seconds_lived = years_lived * seconds_in_a_year\n",
    "print(f\"You have lived for {total_seconds_lived} seconds.\")"
   ]
  },
  {
   "cell_type": "markdown",
   "metadata": {},
   "source": [
    "## Task 23\n",
    "### Display the table"
   ]
  },
  {
   "cell_type": "code",
   "execution_count": 22,
   "metadata": {},
   "outputs": [
    {
     "name": "stdout",
     "output_type": "stream",
     "text": [
      "1 1 1 1 1\n",
      "2 1 2 4 8\n",
      "3 1 3 9 27\n",
      "4 1 4 16 64\n",
      "5 1 5 25 125\n"
     ]
    }
   ],
   "source": [
    "for i in range(1, 6):\n",
    "    print(f\"{i} {1} {i} {i**2} {i**3}\")"
   ]
  }
 ],
 "metadata": {
  "kernelspec": {
   "display_name": "datascience",
   "language": "python",
   "name": "python3"
  },
  "language_info": {
   "codemirror_mode": {
    "name": "ipython",
    "version": 3
   },
   "file_extension": ".py",
   "mimetype": "text/x-python",
   "name": "python",
   "nbconvert_exporter": "python",
   "pygments_lexer": "ipython3",
   "version": "3.9.18"
  }
 },
 "nbformat": 4,
 "nbformat_minor": 2
}
