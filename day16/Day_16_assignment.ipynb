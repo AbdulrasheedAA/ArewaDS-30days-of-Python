{
 "cells": [
  {
   "cell_type": "markdown",
   "metadata": {},
   "source": [
    "# Day 16 Assignment : Python Date time"
   ]
  },
  {
   "cell_type": "code",
   "execution_count": 1,
   "metadata": {},
   "outputs": [],
   "source": [
    "from datetime import datetime, timedelta"
   ]
  },
  {
   "cell_type": "markdown",
   "metadata": {},
   "source": [
    "### 1. Get the current day, month, year, hour, minute, and timestamp"
   ]
  },
  {
   "cell_type": "code",
   "execution_count": 2,
   "metadata": {},
   "outputs": [
    {
     "name": "stdout",
     "output_type": "stream",
     "text": [
      "Current Day: 19\n",
      "Current Month: 12\n",
      "Current Year: 2023\n",
      "Current Hour: 8\n",
      "Current Minute: 3\n",
      "Timestamp: 1702969396.192466\n"
     ]
    }
   ],
   "source": [
    "current_date = datetime.now()\n",
    "current_day = current_date.day\n",
    "current_month = current_date.month\n",
    "current_year = current_date.year\n",
    "current_hour = current_date.hour\n",
    "current_minute = current_date.minute\n",
    "timestamp = current_date.timestamp()\n",
    "\n",
    "print(f\"Current Day: {current_day}\")\n",
    "print(f\"Current Month: {current_month}\")\n",
    "print(f\"Current Year: {current_year}\")\n",
    "print(f\"Current Hour: {current_hour}\")\n",
    "print(f\"Current Minute: {current_minute}\")\n",
    "print(f\"Timestamp: {timestamp}\")"
   ]
  },
  {
   "cell_type": "markdown",
   "metadata": {},
   "source": [
    "### 2. Format the current date"
   ]
  },
  {
   "cell_type": "code",
   "execution_count": 3,
   "metadata": {},
   "outputs": [
    {
     "name": "stdout",
     "output_type": "stream",
     "text": [
      "Current Date: 12/19/2023, 08:03:16\n"
     ]
    }
   ],
   "source": [
    "formatted_date = current_date.strftime(\"%m/%d/%Y, %H:%M:%S\")\n",
    "print(f\"Current Date: {formatted_date}\")\n"
   ]
  },
  {
   "cell_type": "markdown",
   "metadata": {},
   "source": [
    "### 3. Convert a time string to time"
   ]
  },
  {
   "cell_type": "code",
   "execution_count": 4,
   "metadata": {},
   "outputs": [
    {
     "name": "stdout",
     "output_type": "stream",
     "text": [
      "Time Object: 2019-12-05 00:00:00\n"
     ]
    }
   ],
   "source": [
    "time_string = \"5 December, 2019\"\n",
    "time_object = datetime.strptime(time_string, \"%d %B, %Y\")\n",
    "print(f\"Time Object: {time_object}\")"
   ]
  },
  {
   "cell_type": "markdown",
   "metadata": {},
   "source": [
    "### 4. Calculate the time difference between now and new year"
   ]
  },
  {
   "cell_type": "code",
   "execution_count": 5,
   "metadata": {},
   "outputs": [
    {
     "name": "stdout",
     "output_type": "stream",
     "text": [
      "Time until New Year: 12 days, 15:56:43.807534\n"
     ]
    }
   ],
   "source": [
    "new_year = datetime(current_year + 1, 1, 1)\n",
    "time_difference_to_new_year = new_year - current_date\n",
    "print(f\"Time until New Year: {time_difference_to_new_year}\")"
   ]
  },
  {
   "cell_type": "markdown",
   "metadata": {},
   "source": [
    "### 5. Calculate the time difference between 1 January 1970 and now"
   ]
  },
  {
   "cell_type": "code",
   "execution_count": 6,
   "metadata": {},
   "outputs": [
    {
     "name": "stdout",
     "output_type": "stream",
     "text": [
      "Time since Epoch: 19710 days, 8:03:16.192466\n"
     ]
    }
   ],
   "source": [
    "epoch = datetime(1970, 1, 1)\n",
    "time_difference_to_epoch = current_date - epoch\n",
    "print(f\"Time since Epoch: {time_difference_to_epoch}\")"
   ]
  },
  {
   "cell_type": "markdown",
   "metadata": {},
   "source": [
    "### 6. What can you use the datetime module for?"
   ]
  },
  {
   "cell_type": "markdown",
   "metadata": {},
   "source": [
    "* Time series analysis\n",
    "* Getting timestamps for any activities in an application\n",
    "* Logging activities with timestamps\n",
    "* Managing schedules and deadlines\n",
    "* Calculating durations and time differences\n",
    "* Formatting dates for display in user interfaces"
   ]
  }
 ],
 "metadata": {
  "kernelspec": {
   "display_name": "datascience",
   "language": "python",
   "name": "python3"
  },
  "language_info": {
   "codemirror_mode": {
    "name": "ipython",
    "version": 3
   },
   "file_extension": ".py",
   "mimetype": "text/x-python",
   "name": "python",
   "nbconvert_exporter": "python",
   "pygments_lexer": "ipython3",
   "version": "3.9.18"
  }
 },
 "nbformat": 4,
 "nbformat_minor": 2
}
