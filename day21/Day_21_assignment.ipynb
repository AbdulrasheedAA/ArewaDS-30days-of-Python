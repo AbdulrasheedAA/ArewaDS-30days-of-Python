{
 "cells": [
  {
   "cell_type": "markdown",
   "metadata": {},
   "source": [
    "# Day 21 Assignment : Classes and Objects"
   ]
  },
  {
   "cell_type": "markdown",
   "metadata": {},
   "source": [
    "## Exercise Level 1"
   ]
  },
  {
   "cell_type": "markdown",
   "metadata": {},
   "source": [
    "### Create a class called Statistics and create all the functions that do statistical calculations as methods for the Statistics class. i.e. calculates the measure of central tendency of a sample (mean, median, mode) and measure of variability (range, variance, standard deviation), find the min, max, count, and frequency distribution of the sample."
   ]
  },
  {
   "cell_type": "code",
   "execution_count": 1,
   "metadata": {},
   "outputs": [
    {
     "name": "stdout",
     "output_type": "stream",
     "text": [
      "Count: 25\n",
      "Sum: 744\n",
      "Min: 24\n",
      "Max: 38\n",
      "Range: 14\n",
      "Mean: 29.76\n",
      "Median: 29\n",
      "Mode: {'mode': 26, 'count': 5}\n",
      "Variance: 18.273333333333333\n",
      "Standard Deviation: 4.2747319604079665\n",
      "Frequency Distribution: [(2, 31), (5, 26), (2, 34), (2, 37), (4, 27), (3, 32), (2, 24), (2, 33), (1, 25), (1, 38), (1, 29)]\n"
     ]
    }
   ],
   "source": [
    "from collections import Counter\n",
    "import statistics as stats\n",
    "\n",
    "class Statistics:\n",
    "    def __init__(self, data):\n",
    "        self.data = data\n",
    "\n",
    "    def count(self):\n",
    "        return len(self.data)\n",
    "\n",
    "    def sum(self):\n",
    "        return sum(self.data)\n",
    "\n",
    "    def min(self):\n",
    "        return min(self.data)\n",
    "\n",
    "    def max(self):\n",
    "        return max(self.data)\n",
    "\n",
    "    def range(self):\n",
    "        return max(self.data) - min(self.data)\n",
    "\n",
    "    def mean(self):\n",
    "        return stats.mean(self.data)\n",
    "\n",
    "    def median(self):\n",
    "        return stats.median(self.data)\n",
    "\n",
    "    def mode(self):\n",
    "        mode_data = Counter(self.data)\n",
    "        mode_value = mode_data.most_common(1)[0][0]\n",
    "        mode_count = mode_data[mode_value]\n",
    "        return {'mode': mode_value, 'count': mode_count}\n",
    "\n",
    "    def std(self):\n",
    "        return stats.stdev(self.data)\n",
    "\n",
    "    def var(self):\n",
    "        return stats.variance(self.data)\n",
    "\n",
    "    def freq_dist(self):\n",
    "        freq_counter = Counter(self.data)\n",
    "        return [(count, value) for value, count in freq_counter.items()]\n",
    "\n",
    "    def describe(self):\n",
    "        return f\"Count: {self.count()}\\nSum: {self.sum()}\\nMin: {self.min()}\\nMax: {self.max()}\\nRange: {self.range()}\\nMean: {self.mean()}\\nMedian: {self.median()}\\nMode: {self.mode()}\\nVariance: {self.var()}\\nStandard Deviation: {self.std()}\\nFrequency Distribution: {self.freq_dist()}\"\n",
    "\n",
    "# Sample data\n",
    "ages = [31, 26, 34, 37, 27, 26, 32, 32, 26, 27, 27, 24, 32, 33, 27, 25, 26, 38, 37, 31, 34, 24, 33, 29, 26]\n",
    "\n",
    "# Create Statistics object\n",
    "data = Statistics(ages)\n",
    "\n",
    "# Display results\n",
    "print(data.describe())\n"
   ]
  },
  {
   "cell_type": "markdown",
   "metadata": {},
   "source": [
    "## Exercise Level 2"
   ]
  },
  {
   "cell_type": "markdown",
   "metadata": {},
   "source": [
    "### Create a class called PersonAccount. It has firstname, lastname, incomes, expenses properties and it has total_income, total_expense, account_info, add_income, add_expense and account_balance methods"
   ]
  },
  {
   "cell_type": "code",
   "execution_count": 2,
   "metadata": {},
   "outputs": [
    {
     "name": "stdout",
     "output_type": "stream",
     "text": [
      "Account Information for John Doe:\n",
      "Total Income: 6000\n",
      "Total Expense: 1700\n",
      "Account Balance: 4300\n"
     ]
    }
   ],
   "source": [
    "class PersonAccount:\n",
    "    def __init__(self, firstname, lastname):\n",
    "        self.firstname = firstname\n",
    "        self.lastname = lastname\n",
    "        self.incomes = []\n",
    "        self.expenses = []\n",
    "\n",
    "    def add_income(self, description, amount):\n",
    "        self.incomes.append({'description': description, 'amount': amount})\n",
    "\n",
    "    def add_expense(self, description, amount):\n",
    "        self.expenses.append({'description': description, 'amount': amount})\n",
    "\n",
    "    def total_income(self):\n",
    "        return sum(item['amount'] for item in self.incomes)\n",
    "\n",
    "    def total_expense(self):\n",
    "        return sum(item['amount'] for item in self.expenses)\n",
    "\n",
    "    def account_balance(self):\n",
    "        return self.total_income() - self.total_expense()\n",
    "\n",
    "    def account_info(self):\n",
    "        return f\"Account Information for {self.firstname} {self.lastname}:\\nTotal Income: {self.total_income()}\\nTotal Expense: {self.total_expense()}\\nAccount Balance: {self.account_balance()}\"\n",
    "\n",
    "# Example usage\n",
    "person_account = PersonAccount(\"John\", \"Doe\")\n",
    "person_account.add_income(\"Salary\", 5000)\n",
    "person_account.add_income(\"Bonus\", 1000)\n",
    "person_account.add_expense(\"Rent\", 1500)\n",
    "person_account.add_expense(\"Utilities\", 200)\n",
    "\n",
    "print(person_account.account_info())\n"
   ]
  }
 ],
 "metadata": {
  "kernelspec": {
   "display_name": "datascience",
   "language": "python",
   "name": "python3"
  },
  "language_info": {
   "codemirror_mode": {
    "name": "ipython",
    "version": 3
   },
   "file_extension": ".py",
   "mimetype": "text/x-python",
   "name": "python",
   "nbconvert_exporter": "python",
   "pygments_lexer": "ipython3",
   "version": "3.9.18"
  }
 },
 "nbformat": 4,
 "nbformat_minor": 2
}
