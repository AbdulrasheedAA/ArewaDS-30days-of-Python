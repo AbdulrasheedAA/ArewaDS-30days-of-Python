{
 "cells": [
  {
   "cell_type": "markdown",
   "metadata": {},
   "source": [
    "# Day 9 Assignment : Conditionals"
   ]
  },
  {
   "cell_type": "markdown",
   "metadata": {},
   "source": [
    "## Excercise Level 1"
   ]
  },
  {
   "cell_type": "markdown",
   "metadata": {},
   "source": [
    "### 1. Determining if a user is old enough to learn to drive"
   ]
  },
  {
   "cell_type": "code",
   "execution_count": 1,
   "metadata": {},
   "outputs": [
    {
     "name": "stdout",
     "output_type": "stream",
     "text": [
      "You are old enough to learn to drive\n"
     ]
    }
   ],
   "source": [
    "age = float(input('Enter your Age: '))\n",
    "if age >= 18:\n",
    "    print('You are old enough to learn to drive')\n",
    "\n",
    "else: \n",
    "    remaining_years = 18-age\n",
    "    print(f'You need {remaining_years} more years to learn to drive')"
   ]
  },
  {
   "cell_type": "markdown",
   "metadata": {},
   "source": [
    "### 2. Compare the values of my_age and your_age"
   ]
  },
  {
   "cell_type": "code",
   "execution_count": 2,
   "metadata": {},
   "outputs": [
    {
     "name": "stdout",
     "output_type": "stream",
     "text": [
      "I am 5 years older than you\n"
     ]
    }
   ],
   "source": [
    "my_age = float(29)\n",
    "your_age = float(input('Enter your age: '))\n",
    "\n",
    "age_diff = int(my_age - your_age)\n",
    "if age_diff == 1:\n",
    "    print(f'I am {age_diff} year older than you')\n",
    "\n",
    "elif age_diff == -1:\n",
    "    print(f'You are {abs(age_diff)} year older than me')\n",
    "\n",
    "elif age_diff > 1:\n",
    "    print(f'I am {abs(age_diff)} years older than you')\n",
    "\n",
    "elif age_diff < 1 and age_diff != 0:\n",
    "    print(f'You are {abs(age_diff)} years older than me')\n",
    "\n",
    "else: \n",
    "    print('We are of thesame age')"
   ]
  },
  {
   "cell_type": "markdown",
   "metadata": {},
   "source": [
    "### 3. Compare two numbers"
   ]
  },
  {
   "cell_type": "code",
   "execution_count": 3,
   "metadata": {},
   "outputs": [
    {
     "name": "stdout",
     "output_type": "stream",
     "text": [
      "Fisrt number: 9 is greater than Second number: 12\n"
     ]
    }
   ],
   "source": [
    "number_1 = input('Enter First numner:')\n",
    "number_2 = input('Enter Second number:')\n",
    "\n",
    "if number_1 > number_2:\n",
    "    print(f'Fisrt number: {number_1} is greater than Second number: {number_2}')\n",
    "\n",
    "elif number_1 < number_2:\n",
    "    print(f'First number: {number_1} is smaller than Second number: {number_2}')\n",
    "\n",
    "else: \n",
    "    print(f'First number: {number_1} is equal to Second number: {number_2}')"
   ]
  },
  {
   "cell_type": "markdown",
   "metadata": {},
   "source": [
    "## Exercise Level 2"
   ]
  },
  {
   "cell_type": "markdown",
   "metadata": {},
   "source": [
    "### 1. Write a code which gives grade to students according to theirs scores"
   ]
  },
  {
   "cell_type": "code",
   "execution_count": 4,
   "metadata": {},
   "outputs": [
    {
     "name": "stdout",
     "output_type": "stream",
     "text": [
      "Your grade is \"C\"\n"
     ]
    }
   ],
   "source": [
    "student_score = int(input('Enter your grade:'))\n",
    "student_score <= 100\n",
    "\n",
    "if student_score >= 80 and student_score <= 100 :\n",
    "    print('your grade is \"A\"')\n",
    "\n",
    "elif student_score >= 70 and student_score <= 79:\n",
    "    print('Your grade is \"B\"')\n",
    "\n",
    "elif student_score >= 60 and student_score <= 69:\n",
    "    print('Your grade is \"C\"')\n",
    "\n",
    "elif student_score >= 50 and student_score <= 59:\n",
    "    print('Your grade is \"D\"')\n",
    "\n",
    "elif student_score >= 0 and student_score <= 49:\n",
    "    print('Your grade is \"F\"')\n",
    "\n",
    "else:\n",
    "    print('Enter Valid Score: Between 0 and 100')"
   ]
  },
  {
   "cell_type": "markdown",
   "metadata": {},
   "source": [
    "### 2. Check if the season is Autumn, Winter, Spring or Summer"
   ]
  },
  {
   "cell_type": "code",
   "execution_count": 5,
   "metadata": {},
   "outputs": [
    {
     "name": "stdout",
     "output_type": "stream",
     "text": [
      "The season is Spring\n"
     ]
    }
   ],
   "source": [
    "month = (input('What month are we: '))\n",
    "choose_month = month.capitalize()\n",
    "\n",
    "if choose_month == 'December' or choose_month == 'January' or choose_month == 'February':\n",
    "    print('The season is Winter')\n",
    "\n",
    "elif choose_month == 'March' or choose_month == 'April' or choose_month == 'May':\n",
    "    print('The season is Spring')\n",
    "\n",
    "elif choose_month == 'June' or choose_month == 'July' or choose_month == 'August':\n",
    "    print('The season is Summer')\n",
    "\n",
    "elif choose_month == 'September' or choose_month == 'October' or choose_month == 'November':\n",
    "    print('The season is Autumn')\n",
    "\n",
    "else:\n",
    "    print(\"Invalid Input. Please enter a valid month.\\nExample: January, February, March, April, May, June, July, August, September, October , November, December\")"
   ]
  },
  {
   "cell_type": "markdown",
   "metadata": {},
   "source": [
    "### 3. Checking and Modifying list"
   ]
  },
  {
   "cell_type": "code",
   "execution_count": 6,
   "metadata": {},
   "outputs": [
    {
     "name": "stdout",
     "output_type": "stream",
     "text": [
      "['banana', 'orange', 'mango', 'lemon', 'Grape']\n"
     ]
    }
   ],
   "source": [
    "fruits = ['banana', 'orange', 'mango', 'lemon']\n",
    "add_fruit = input(\"Enter the fruit you'll like to add to the list: \")\n",
    "\n",
    "if add_fruit not in fruits:\n",
    "    fruits.append(add_fruit)\n",
    "    print(fruits)\n",
    "\n",
    "else: \n",
    "    print('That fruit already exist in the list')\n",
    "\n"
   ]
  },
  {
   "cell_type": "markdown",
   "metadata": {},
   "source": [
    "## Exercises: Level 3"
   ]
  },
  {
   "cell_type": "markdown",
   "metadata": {},
   "source": [
    "### Modifying a dictionary"
   ]
  },
  {
   "cell_type": "code",
   "execution_count": 7,
   "metadata": {},
   "outputs": [],
   "source": [
    "person = {\n",
    "        'first_name': 'Asabeneh',\n",
    "        'last_name': 'Yetayeh',\n",
    "        'age': '250',\n",
    "        'country': 'Finland',\n",
    "        'is_married': True,\n",
    "        'skills': ['JavaScript', 'React', 'Node', 'MongoDB', 'Python'],\n",
    "        'address': {\n",
    "            'street': 'Space street',\n",
    "            'zipcode': '02210'\n",
    "    }\n",
    "    }\n"
   ]
  },
  {
   "cell_type": "markdown",
   "metadata": {},
   "source": [
    "#### Task 1"
   ]
  },
  {
   "cell_type": "code",
   "execution_count": 8,
   "metadata": {},
   "outputs": [
    {
     "name": "stdout",
     "output_type": "stream",
     "text": [
      "The middle skill is: Node\n"
     ]
    }
   ],
   "source": [
    "if 'skills' in person:\n",
    "    skills = person['skills']\n",
    "    middle_skill = skills[len(skills) // 2]\n",
    "    print(f\"The middle skill is: {middle_skill}\")"
   ]
  },
  {
   "cell_type": "markdown",
   "metadata": {},
   "source": [
    "#### Task 2"
   ]
  },
  {
   "cell_type": "code",
   "execution_count": 9,
   "metadata": {},
   "outputs": [
    {
     "name": "stdout",
     "output_type": "stream",
     "text": [
      "The person has the python skill\n"
     ]
    }
   ],
   "source": [
    "if 'skills' in person and 'Python' in person['skills']:\n",
    "    print('The person has the python skill')"
   ]
  },
  {
   "cell_type": "markdown",
   "metadata": {},
   "source": [
    "#### Task 3"
   ]
  },
  {
   "cell_type": "code",
   "execution_count": 10,
   "metadata": {},
   "outputs": [
    {
     "name": "stdout",
     "output_type": "stream",
     "text": [
      "He is a backend developer\n"
     ]
    }
   ],
   "source": [
    "if 'skills' in person:\n",
    "    skills = set(person['skills'])\n",
    "    if skills == {'JavaScript', 'React'}:\n",
    "        print('He is a front end developer')\n",
    "    elif {'Node', 'Python', 'MongoDB'}:\n",
    "        print('He is a backend developer')\n",
    "    elif {'React', 'Node', 'MongoDB'}:\n",
    "        print('He is a fullstack developer')\n",
    "    else:\n",
    "        print('Unknown title')\n"
   ]
  },
  {
   "cell_type": "markdown",
   "metadata": {},
   "source": [
    "#### Task 4"
   ]
  },
  {
   "cell_type": "code",
   "execution_count": 11,
   "metadata": {},
   "outputs": [
    {
     "name": "stdout",
     "output_type": "stream",
     "text": [
      "True\n",
      "Finland\n",
      "Asabeneh Yetayeh lives in Finland. He is married.\n"
     ]
    }
   ],
   "source": [
    "print(person.get('is_married'))\n",
    "print(person.get('country'))\n",
    "\n",
    "if person.get('is_married') is True and person.get('country') == 'Finland':\n",
    "    print(f\"{person['first_name']} {person['last_name']} lives in {person['country']}. He is married.\")\n"
   ]
  }
 ],
 "metadata": {
  "kernelspec": {
   "display_name": "datascience",
   "language": "python",
   "name": "python3"
  },
  "language_info": {
   "codemirror_mode": {
    "name": "ipython",
    "version": 3
   },
   "file_extension": ".py",
   "mimetype": "text/x-python",
   "name": "python",
   "nbconvert_exporter": "python",
   "pygments_lexer": "ipython3",
   "version": "3.9.18"
  }
 },
 "nbformat": 4,
 "nbformat_minor": 2
}
